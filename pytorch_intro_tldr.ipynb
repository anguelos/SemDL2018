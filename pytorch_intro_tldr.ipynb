{
 "cells": [
  {
   "cell_type": "markdown",
   "metadata": {},
   "source": [
    "### Pytorch introduction TLDR\n",
    "\n",
    "A very simple pytorch CNN classifier.\n",
    "\n",
    "#### Import needed packages"
   ]
  },
  {
   "cell_type": "code",
   "execution_count": null,
   "metadata": {},
   "outputs": [],
   "source": [
    "from __future__ import print_function\n",
    "import torch, torch.utils.data as data, torch.nn as nn\n",
    "import torchvision,torchvision.transforms as transforms, torchvision.datasets as datasets"
   ]
  },
  {
   "cell_type": "markdown",
   "metadata": {},
   "source": [
    "#### Define CNN"
   ]
  },
  {
   "cell_type": "code",
   "execution_count": null,
   "metadata": {},
   "outputs": [],
   "source": [
    "class Lenet5(torch.nn.Module):\n",
    "    def __init__(self):\n",
    "        super(Lenet5, self).__init__()\n",
    "        self.conv1 = torch.nn.Conv2d(1, 6, (5,5))\n",
    "        self.conv2 = torch.nn.Conv2d(6, 10, (5,5))\n",
    "        self.pool = torch.nn.MaxPool2d(2, 2)\n",
    "        self.fc1 = torch.nn.Linear(160, 120)\n",
    "        self.fc2 = torch.nn.Linear(120, 84)\n",
    "        self.fc_class = torch.nn.Linear(84, 10)\n",
    "\n",
    "    def forward(self, X):\n",
    "        X=self.pool(torch.tanh(self.conv1(X)))\n",
    "        X=self.pool(torch.tanh(self.conv2(X)))\n",
    "        X=X.view([X.size()[0],160])\n",
    "        X=torch.tanh(self.fc1(X))\n",
    "        X=torch.tanh(self.fc2(X))\n",
    "        return self.fc_class(X)"
   ]
  },
  {
   "cell_type": "markdown",
   "metadata": {},
   "source": [
    "#### Load datasets"
   ]
  },
  {
   "cell_type": "code",
   "execution_count": null,
   "metadata": {},
   "outputs": [],
   "source": [
    "trainloader = data.DataLoader(datasets.MNIST(\n",
    "    root='./data', train=True, download=True, transform=transforms.ToTensor()), batch_size=256, shuffle=False)\n",
    "testloader = data.DataLoader(datasets.MNIST(\n",
    "    root='./data', train=False, download=True, transform=transforms.ToTensor()), batch_size=10000)"
   ]
  },
  {
   "cell_type": "markdown",
   "metadata": {},
   "source": [
    "#### Train CNN"
   ]
  },
  {
   "cell_type": "code",
   "execution_count": null,
   "metadata": {},
   "outputs": [],
   "source": [
    "net=Lenet5()\n",
    "criterion = torch.nn.CrossEntropyLoss()\n",
    "optimizer = torch.optim.SGD(net.parameters(), lr=.01, momentum=0.9)\n",
    "\n",
    "for epoch in range(30):\n",
    "    for batch_idx, (X,y_gt) in enumerate(trainloader):\n",
    "        optimizer.zero_grad() # clear gradients\n",
    "        y_out = net(X)\n",
    "        loss = criterion(y_out, y_gt) # compute error\n",
    "        loss.backward() # compute weiht updates with respect to error\n",
    "        optimizer.step() # apply weight updates\n",
    "    inputs, targets = iter(testloader).next()\n",
    "    outputs = net(inputs)\n",
    "    _, predicted = outputs.max(1)\n",
    "    print (\"Epoch {}:  Validation Accuracy {}%\".format(epoch+1,predicted.eq(targets).sum().item()/10000.0))"
   ]
  }
 ],
 "metadata": {
  "kernelspec": {
   "display_name": "Python 2",
   "language": "python",
   "name": "python2"
  },
  "language_info": {
   "codemirror_mode": {
    "name": "ipython",
    "version": 2
   },
   "file_extension": ".py",
   "mimetype": "text/x-python",
   "name": "python",
   "nbconvert_exporter": "python",
   "pygments_lexer": "ipython2",
   "version": "2.7.15rc1"
  }
 },
 "nbformat": 4,
 "nbformat_minor": 2
}
