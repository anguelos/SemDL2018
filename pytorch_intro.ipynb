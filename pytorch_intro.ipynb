{
 "cells": [
  {
   "cell_type": "markdown",
   "metadata": {},
   "source": [
    "### Installing Requirements\n",
    "```bash\n",
    "pip install --user ipywidgets torchvision tqdm matplotlib\n",
    "```"
   ]
  },
  {
   "cell_type": "markdown",
   "metadata": {},
   "source": [
    "### Loading required packages"
   ]
  },
  {
   "cell_type": "code",
   "execution_count": 1,
   "metadata": {},
   "outputs": [],
   "source": [
    "%matplotlib inline\n",
    "\n",
    "import torch\n",
    "import torch.nn.functional as F\n",
    "import torchvision\n",
    "import numpy\n",
    "from matplotlib import pyplot as plt\n",
    "\n",
    "try:\n",
    "    from tqdm import tqdm as iter_progress\n",
    "except:\n",
    "    iter_progress=lambda x:x"
   ]
  },
  {
   "cell_type": "markdown",
   "metadata": {},
   "source": [
    "### Have we got GPU?"
   ]
  },
  {
   "cell_type": "code",
   "execution_count": 2,
   "metadata": {},
   "outputs": [
    {
     "name": "stdout",
     "output_type": "stream",
     "text": [
      "GPU works\n"
     ]
    }
   ],
   "source": [
    "if torch.cuda.is_available():\n",
    "    print \"GPU works\"\n",
    "    device = 'cuda'\n",
    "else:\n",
    "    print \"CPU will have to do\"\n",
    "    device = 'cpu'"
   ]
  },
  {
   "cell_type": "code",
   "execution_count": 3,
   "metadata": {},
   "outputs": [
    {
     "data": {
      "text/plain": [
       "<matplotlib.image.AxesImage at 0x7f02103d9050>"
      ]
     },
     "execution_count": 3,
     "metadata": {},
     "output_type": "execute_result"
    },
    {
     "data": {
      "image/png": "[encoded data removed]",
      "text/plain": [
       "<Figure size 432x288 with 1 Axes>"
      ]
     },
     "metadata": {
      "needs_background": "light"
     },
     "output_type": "display_data"
    }
   ],
   "source": [
    "transform_train = torchvision.transforms.Compose([\n",
    "    torchvision.transforms.ToTensor(),\n",
    "    torchvision.transforms.Normalize((0.1307,), (0.3081,))])\n",
    "\n",
    "transform_test = transform_train\n",
    "\n",
    "trainset = torchvision.datasets.MNIST(root='./data', train=True, download=True, transform=transform_train)\n",
    "trainloader = torch.utils.data.DataLoader(trainset, batch_size=2096, shuffle=True, num_workers=5)\n",
    "\n",
    "testset = torchvision.datasets.MNIST(root='./data', train=False, download=True, transform=transform_test)\n",
    "testloader = torch.utils.data.DataLoader(testset, batch_size=2096, shuffle=False, num_workers=5)\n",
    "\n",
    "images, labels = iter(testloader).next()\n",
    "img=torchvision.utils.make_grid(images[:32,:,:,:]).numpy()\n",
    "plt.imshow(img.transpose(1,2,0))"
   ]
  },
  {
   "cell_type": "markdown",
   "metadata": {},
   "source": [
    "### Define a simple CNN"
   ]
  },
  {
   "cell_type": "code",
   "execution_count": 4,
   "metadata": {},
   "outputs": [],
   "source": [
    "class Lenet5(torch.nn.Module):\n",
    "    def __init__(self):\n",
    "        super(Lenet5, self).__init__()\n",
    "        self.conv1 = torch.nn.Conv2d(1, 6, (5,5))\n",
    "        self.conv2 = torch.nn.Conv2d(6, 10, (5,5))\n",
    "        self.pool = torch.nn.MaxPool2d(2, 2)\n",
    "        self.fc1 = torch.nn.Linear(160, 120)\n",
    "        self.fc2 = torch.nn.Linear(120, 84)\n",
    "        self.fc_class = torch.nn.Linear(84, 10)\n",
    "\n",
    "    def forward(self, X):\n",
    "        layer1_activations=torch.tanh(self.conv1(X))\n",
    "        layer2_activations=self.pool(layer1_activations)\n",
    "        layer3_activations=torch.tanh(self.conv2(layer2_activations))\n",
    "        layer4_activations=self.pool(layer3_activations)\n",
    "        layer4_activations=layer4_activations.view([layer4_activations.size()[0],160])\n",
    "        layer5_activations=torch.tanh(self.fc1(layer4_activations))\n",
    "        layer6_activations=torch.tanh(self.fc2(layer5_activations))\n",
    "        output_logits = self.fc_class(layer6_activations)\n",
    "        return output_logits\n",
    "\n",
    "    def save(filename):\n",
    "        save.save_state_dict(filename)\n",
    "        "
   ]
  },
  {
   "cell_type": "markdown",
   "metadata": {},
   "source": [
    "### Define iterating over a single epoch\n",
    "(For train and test)"
   ]
  },
  {
   "cell_type": "code",
   "execution_count": 5,
   "metadata": {},
   "outputs": [],
   "source": [
    "def run_epoch(net,dataloader,criterion,device,optimizer=None):\n",
    "    net.train()\n",
    "    accumulated_loss = 0\n",
    "    correct = 0\n",
    "    total = 0\n",
    "    for batch_idx, (inputs, targets) in enumerate(iter_progress(dataloader)):\n",
    "        inputs, targets = inputs.to(device), targets.to(device)\n",
    "        if optimizer:\n",
    "            optimizer.zero_grad()\n",
    "        outputs = net(inputs)\n",
    "        loss = criterion(outputs, targets)\n",
    "        if optimizer:\n",
    "            loss.backward()\n",
    "            optimizer.step()\n",
    "        accumulated_loss += loss.item()\n",
    "        _, predicted = outputs.max(1)\n",
    "        total += targets.size(0)\n",
    "        correct += predicted.eq(targets).sum().item()\n",
    "    return correct,total,accumulated_loss"
   ]
  },
  {
   "cell_type": "markdown",
   "metadata": {},
   "source": [
    "### Train on CPU"
   ]
  },
  {
   "cell_type": "code",
   "execution_count": 6,
   "metadata": {},
   "outputs": [
    {
     "name": "stderr",
     "output_type": "stream",
     "text": [
      "100%|██████████| 29/29 [00:05<00:00,  5.58it/s]\n",
      "100%|██████████| 5/5 [00:00<00:00,  8.34it/s]\n",
      "  0%|          | 0/29 [00:00<?, ?it/s]"
     ]
    },
    {
     "name": "stdout",
     "output_type": "stream",
     "text": [
      "Epoch: 0 Train Error: 0.729683333333 Validation Error: 0.4188 Loss: 65.708479166\n"
     ]
    },
    {
     "name": "stderr",
     "output_type": "stream",
     "text": [
      "100%|██████████| 29/29 [00:05<00:00,  5.50it/s]\n",
      "100%|██████████| 5/5 [00:00<00:00,  8.75it/s]\n",
      "  0%|          | 0/29 [00:00<?, ?it/s]"
     ]
    },
    {
     "name": "stdout",
     "output_type": "stream",
     "text": [
      "Epoch: 1 Train Error: 0.381683333333 Validation Error: 0.3516 Loss: 56.8300657272\n"
     ]
    },
    {
     "name": "stderr",
     "output_type": "stream",
     "text": [
      "100%|██████████| 29/29 [00:05<00:00,  5.78it/s]\n",
      "100%|██████████| 5/5 [00:00<00:00,  8.89it/s]"
     ]
    },
    {
     "name": "stdout",
     "output_type": "stream",
     "text": [
      "Epoch: 2 Train Error: 0.3101 Validation Error: 0.2074 Loss: 35.3771324158\n"
     ]
    },
    {
     "name": "stderr",
     "output_type": "stream",
     "text": [
      "\n"
     ]
    },
    {
     "data": {
      "text/plain": [
       "[<matplotlib.lines.Line2D at 0x7f0210396dd0>]"
      ]
     },
     "execution_count": 6,
     "metadata": {},
     "output_type": "execute_result"
    },
    {
     "data": {
      "image/png": "[encoded data removed]",
      "text/plain": [
       "<Figure size 432x288 with 1 Axes>"
      ]
     },
     "metadata": {
      "needs_background": "light"
     },
     "output_type": "display_data"
    }
   ],
   "source": [
    "net=Lenet5()\n",
    "net.cpu()\n",
    "\n",
    "criterion = torch.nn.CrossEntropyLoss()\n",
    "optimizer = torch.optim.SGD(net.parameters(), lr=.01, momentum=0.9, weight_decay=5e-4)\n",
    "\n",
    "train_performance = []\n",
    "validation_performance = []\n",
    "\n",
    "for epoch in range(3):\n",
    "    train_correct,train_total,train_loss=run_epoch(net, trainloader, criterion, 'cpu', optimizer)\n",
    "    train_err=1-float(train_correct)/train_total\n",
    "    test_correct,test_total,test_error=run_epoch(net, testloader, criterion, 'cpu', None)\n",
    "    test_err=1-float(test_correct)/test_total\n",
    "    train_performance.append(train_err)\n",
    "    validation_performance.append(test_err)\n",
    "    print \"Epoch: {} Train Error: {} Validation Error: {} Loss: {}\".format(epoch,train_err,test_err,train_loss)\n",
    "\n",
    "plt.semilogy(train_performance)\n",
    "plt.semilogy(validation_performance)"
   ]
  },
  {
   "cell_type": "markdown",
   "metadata": {},
   "source": [
    "### Save the model"
   ]
  },
  {
   "cell_type": "code",
   "execution_count": 7,
   "metadata": {},
   "outputs": [],
   "source": [
    "torch.save(net.state_dict(), \"lenet5.pt\")"
   ]
  },
  {
   "cell_type": "markdown",
   "metadata": {},
   "source": [
    "### Resume the model"
   ]
  },
  {
   "cell_type": "code",
   "execution_count": 8,
   "metadata": {},
   "outputs": [
    {
     "name": "stderr",
     "output_type": "stream",
     "text": [
      "100%|██████████| 5/5 [00:00<00:00,  9.00it/s]\n",
      "  0%|          | 0/5 [00:00<?, ?it/s]"
     ]
    },
    {
     "name": "stdout",
     "output_type": "stream",
     "text": [
      "Initial test error 0.9208\n"
     ]
    },
    {
     "name": "stderr",
     "output_type": "stream",
     "text": [
      "100%|██████████| 5/5 [00:00<00:00,  8.79it/s]"
     ]
    },
    {
     "name": "stdout",
     "output_type": "stream",
     "text": [
      "Resumed test error 0.2074\n"
     ]
    },
    {
     "name": "stderr",
     "output_type": "stream",
     "text": [
      "\n"
     ]
    }
   ],
   "source": [
    "net=Lenet5()\n",
    "net.cpu()\n",
    "test_correct,test_total,test_error=run_epoch(net, testloader, criterion, 'cpu', None)\n",
    "test_err=1-float(test_correct)/test_total\n",
    "print \"Initial test error {}\".format(test_err)\n",
    "net.load_state_dict(torch.load(\"lenet5.pt\"))\n",
    "test_correct,test_total,test_error=run_epoch(net, testloader, criterion, 'cpu', None)\n",
    "test_err=1-float(test_correct)/test_total\n",
    "print \"Resumed test error {}\".format(test_err)\n"
   ]
  },
  {
   "cell_type": "markdown",
   "metadata": {},
   "source": [
    "### Train on GPU"
   ]
  },
  {
   "cell_type": "code",
   "execution_count": 9,
   "metadata": {},
   "outputs": [
    {
     "name": "stderr",
     "output_type": "stream",
     "text": [
      "100%|██████████| 29/29 [00:01<00:00, 17.01it/s]\n",
      "100%|██████████| 5/5 [00:00<00:00, 10.42it/s]\n",
      "  0%|          | 0/29 [00:00<?, ?it/s]"
     ]
    },
    {
     "name": "stdout",
     "output_type": "stream",
     "text": [
      "Epoch: 0 Train Error: 0.683833333333 Validation Error: 0.3884 Loss: 65.4000287056\n"
     ]
    },
    {
     "name": "stderr",
     "output_type": "stream",
     "text": [
      "100%|██████████| 29/29 [00:01<00:00, 16.82it/s]\n",
      "100%|██████████| 5/5 [00:00<00:00, 13.06it/s]\n",
      "  0%|          | 0/29 [00:00<?, ?it/s]"
     ]
    },
    {
     "name": "stdout",
     "output_type": "stream",
     "text": [
      "Epoch: 1 Train Error: 0.354533333333 Validation Error: 0.324 Loss: 54.4367974997\n"
     ]
    },
    {
     "name": "stderr",
     "output_type": "stream",
     "text": [
      "100%|██████████| 29/29 [00:01<00:00, 17.28it/s]\n",
      "100%|██████████| 5/5 [00:00<00:00, 10.60it/s]\n",
      "  0%|          | 0/29 [00:00<?, ?it/s]"
     ]
    },
    {
     "name": "stdout",
     "output_type": "stream",
     "text": [
      "Epoch: 2 Train Error: 0.277783333333 Validation Error: 0.2021 Loss: 32.2060779333\n"
     ]
    },
    {
     "name": "stderr",
     "output_type": "stream",
     "text": [
      "100%|██████████| 29/29 [00:01<00:00, 17.73it/s]\n",
      "100%|██████████| 5/5 [00:00<00:00, 10.90it/s]\n",
      "  0%|          | 0/29 [00:00<?, ?it/s]"
     ]
    },
    {
     "name": "stdout",
     "output_type": "stream",
     "text": [
      "Epoch: 3 Train Error: 0.172016666667 Validation Error: 0.1328 Loss: 20.0650656223\n"
     ]
    },
    {
     "name": "stderr",
     "output_type": "stream",
     "text": [
      "100%|██████████| 29/29 [00:01<00:00, 17.29it/s]\n",
      "100%|██████████| 5/5 [00:00<00:00, 10.22it/s]\n",
      "  0%|          | 0/29 [00:00<?, ?it/s]"
     ]
    },
    {
     "name": "stdout",
     "output_type": "stream",
     "text": [
      "Epoch: 4 Train Error: 0.124616666667 Validation Error: 0.1041 Loss: 14.459608525\n"
     ]
    },
    {
     "name": "stderr",
     "output_type": "stream",
     "text": [
      "100%|██████████| 29/29 [00:01<00:00, 17.64it/s]\n",
      "100%|██████████| 5/5 [00:00<00:00, 10.07it/s]\n",
      "  0%|          | 0/29 [00:00<?, ?it/s]"
     ]
    },
    {
     "name": "stdout",
     "output_type": "stream",
     "text": [
      "Epoch: 5 Train Error: 0.1027 Validation Error: 0.0901 Loss: 11.5348459184\n"
     ]
    },
    {
     "name": "stderr",
     "output_type": "stream",
     "text": [
      "100%|██████████| 29/29 [00:01<00:00, 17.55it/s]\n",
      "100%|██████████| 5/5 [00:00<00:00, 11.37it/s]\n",
      "  0%|          | 0/29 [00:00<?, ?it/s]"
     ]
    },
    {
     "name": "stdout",
     "output_type": "stream",
     "text": [
      "Epoch: 6 Train Error: 0.0881833333333 Validation Error: 0.0774 Loss: 9.74250626564\n"
     ]
    },
    {
     "name": "stderr",
     "output_type": "stream",
     "text": [
      "100%|██████████| 29/29 [00:01<00:00, 16.64it/s]\n",
      "100%|██████████| 5/5 [00:00<00:00, 11.24it/s]\n",
      "  0%|          | 0/29 [00:00<?, ?it/s]"
     ]
    },
    {
     "name": "stdout",
     "output_type": "stream",
     "text": [
      "Epoch: 7 Train Error: 0.0785 Validation Error: 0.0689 Loss: 8.50855630636\n"
     ]
    },
    {
     "name": "stderr",
     "output_type": "stream",
     "text": [
      "100%|██████████| 29/29 [00:01<00:00, 17.52it/s]\n",
      "100%|██████████| 5/5 [00:00<00:00, 13.12it/s]\n",
      "  0%|          | 0/29 [00:00<?, ?it/s]"
     ]
    },
    {
     "name": "stdout",
     "output_type": "stream",
     "text": [
      "Epoch: 8 Train Error: 0.0704166666667 Validation Error: 0.0645 Loss: 7.60724402964\n"
     ]
    },
    {
     "name": "stderr",
     "output_type": "stream",
     "text": [
      "100%|██████████| 29/29 [00:01<00:00, 15.90it/s]\n",
      "100%|██████████| 5/5 [00:00<00:00, 11.36it/s]\n",
      "  0%|          | 0/29 [00:00<?, ?it/s]"
     ]
    },
    {
     "name": "stdout",
     "output_type": "stream",
     "text": [
      "Epoch: 9 Train Error: 0.0651 Validation Error: 0.0603 Loss: 6.90250752866\n"
     ]
    },
    {
     "name": "stderr",
     "output_type": "stream",
     "text": [
      "100%|██████████| 29/29 [00:01<00:00, 17.71it/s]\n",
      "100%|██████████| 5/5 [00:00<00:00, 11.61it/s]\n",
      "  0%|          | 0/29 [00:00<?, ?it/s]"
     ]
    },
    {
     "name": "stdout",
     "output_type": "stream",
     "text": [
      "Epoch: 10 Train Error: 0.0605 Validation Error: 0.0558 Loss: 6.33300291002\n"
     ]
    },
    {
     "name": "stderr",
     "output_type": "stream",
     "text": [
      "100%|██████████| 29/29 [00:01<00:00, 16.89it/s]\n",
      "100%|██████████| 5/5 [00:00<00:00, 10.36it/s]\n",
      "  0%|          | 0/29 [00:00<?, ?it/s]"
     ]
    },
    {
     "name": "stdout",
     "output_type": "stream",
     "text": [
      "Epoch: 11 Train Error: 0.0564 Validation Error: 0.0518 Loss: 5.87656159699\n"
     ]
    },
    {
     "name": "stderr",
     "output_type": "stream",
     "text": [
      "100%|██████████| 29/29 [00:01<00:00, 17.56it/s]\n",
      "100%|██████████| 5/5 [00:00<00:00,  9.65it/s]\n",
      "  0%|          | 0/29 [00:00<?, ?it/s]"
     ]
    },
    {
     "name": "stdout",
     "output_type": "stream",
     "text": [
      "Epoch: 12 Train Error: 0.0529 Validation Error: 0.0492 Loss: 5.48494960368\n"
     ]
    },
    {
     "name": "stderr",
     "output_type": "stream",
     "text": [
      "100%|██████████| 29/29 [00:01<00:00, 17.16it/s]\n",
      "100%|██████████| 5/5 [00:00<00:00, 11.49it/s]\n",
      "  0%|          | 0/29 [00:00<?, ?it/s]"
     ]
    },
    {
     "name": "stdout",
     "output_type": "stream",
     "text": [
      "Epoch: 13 Train Error: 0.0498 Validation Error: 0.0472 Loss: 5.14807800949\n"
     ]
    },
    {
     "name": "stderr",
     "output_type": "stream",
     "text": [
      "100%|██████████| 29/29 [00:01<00:00, 17.10it/s]\n",
      "100%|██████████| 5/5 [00:00<00:00, 10.23it/s]\n",
      "  0%|          | 0/29 [00:00<?, ?it/s]"
     ]
    },
    {
     "name": "stdout",
     "output_type": "stream",
     "text": [
      "Epoch: 14 Train Error: 0.04715 Validation Error: 0.0449 Loss: 4.86665467918\n"
     ]
    },
    {
     "name": "stderr",
     "output_type": "stream",
     "text": [
      "100%|██████████| 29/29 [00:01<00:00, 15.98it/s]\n",
      "100%|██████████| 5/5 [00:00<00:00,  9.16it/s]\n",
      "  0%|          | 0/29 [00:00<?, ?it/s]"
     ]
    },
    {
     "name": "stdout",
     "output_type": "stream",
     "text": [
      "Epoch: 15 Train Error: 0.0447666666667 Validation Error: 0.0434 Loss: 4.61011758447\n"
     ]
    },
    {
     "name": "stderr",
     "output_type": "stream",
     "text": [
      "100%|██████████| 29/29 [00:01<00:00, 16.93it/s]\n",
      "100%|██████████| 5/5 [00:00<00:00, 10.79it/s]\n",
      "  0%|          | 0/29 [00:00<?, ?it/s]"
     ]
    },
    {
     "name": "stdout",
     "output_type": "stream",
     "text": [
      "Epoch: 16 Train Error: 0.0428333333333 Validation Error: 0.0418 Loss: 4.38308684528\n"
     ]
    },
    {
     "name": "stderr",
     "output_type": "stream",
     "text": [
      "100%|██████████| 29/29 [00:01<00:00, 16.20it/s]\n",
      "100%|██████████| 5/5 [00:00<00:00, 11.57it/s]\n",
      "  0%|          | 0/29 [00:00<?, ?it/s]"
     ]
    },
    {
     "name": "stdout",
     "output_type": "stream",
     "text": [
      "Epoch: 17 Train Error: 0.0409166666667 Validation Error: 0.0403 Loss: 4.18304374814\n"
     ]
    },
    {
     "name": "stderr",
     "output_type": "stream",
     "text": [
      "100%|██████████| 29/29 [00:01<00:00, 16.58it/s]\n",
      "100%|██████████| 5/5 [00:00<00:00, 11.55it/s]\n",
      "  0%|          | 0/29 [00:00<?, ?it/s]"
     ]
    },
    {
     "name": "stdout",
     "output_type": "stream",
     "text": [
      "Epoch: 18 Train Error: 0.0390666666667 Validation Error: 0.0391 Loss: 3.99736652523\n"
     ]
    },
    {
     "name": "stderr",
     "output_type": "stream",
     "text": [
      "100%|██████████| 29/29 [00:01<00:00, 17.80it/s]\n",
      "100%|██████████| 5/5 [00:00<00:00,  9.35it/s]\n",
      "  0%|          | 0/29 [00:00<?, ?it/s]"
     ]
    },
    {
     "name": "stdout",
     "output_type": "stream",
     "text": [
      "Epoch: 19 Train Error: 0.0375833333333 Validation Error: 0.0368 Loss: 3.83869781345\n"
     ]
    },
    {
     "name": "stderr",
     "output_type": "stream",
     "text": [
      "100%|██████████| 29/29 [00:01<00:00, 16.22it/s]\n",
      "100%|██████████| 5/5 [00:00<00:00,  9.59it/s]\n",
      "  0%|          | 0/29 [00:00<?, ?it/s]"
     ]
    },
    {
     "name": "stdout",
     "output_type": "stream",
     "text": [
      "Epoch: 20 Train Error: 0.0361666666667 Validation Error: 0.0349 Loss: 3.68780981004\n"
     ]
    },
    {
     "name": "stderr",
     "output_type": "stream",
     "text": [
      "100%|██████████| 29/29 [00:01<00:00, 17.03it/s]\n",
      "100%|██████████| 5/5 [00:00<00:00, 10.08it/s]\n",
      "  0%|          | 0/29 [00:00<?, ?it/s]"
     ]
    },
    {
     "name": "stdout",
     "output_type": "stream",
     "text": [
      "Epoch: 21 Train Error: 0.0349166666667 Validation Error: 0.0347 Loss: 3.55101887137\n"
     ]
    },
    {
     "name": "stderr",
     "output_type": "stream",
     "text": [
      "100%|██████████| 29/29 [00:01<00:00, 17.54it/s]\n",
      "100%|██████████| 5/5 [00:00<00:00, 10.85it/s]\n",
      "  0%|          | 0/29 [00:00<?, ?it/s]"
     ]
    },
    {
     "name": "stdout",
     "output_type": "stream",
     "text": [
      "Epoch: 22 Train Error: 0.0338666666667 Validation Error: 0.0332 Loss: 3.42888548225\n"
     ]
    },
    {
     "name": "stderr",
     "output_type": "stream",
     "text": [
      "100%|██████████| 29/29 [00:01<00:00, 17.33it/s]\n",
      "100%|██████████| 5/5 [00:00<00:00, 10.26it/s]\n",
      "  0%|          | 0/29 [00:00<?, ?it/s]"
     ]
    },
    {
     "name": "stdout",
     "output_type": "stream",
     "text": [
      "Epoch: 23 Train Error: 0.03265 Validation Error: 0.0317 Loss: 3.30851020664\n"
     ]
    },
    {
     "name": "stderr",
     "output_type": "stream",
     "text": [
      "100%|██████████| 29/29 [00:01<00:00, 17.14it/s]\n",
      "100%|██████████| 5/5 [00:00<00:00, 11.68it/s]\n",
      "  0%|          | 0/29 [00:00<?, ?it/s]"
     ]
    },
    {
     "name": "stdout",
     "output_type": "stream",
     "text": [
      "Epoch: 24 Train Error: 0.0317666666667 Validation Error: 0.0307 Loss: 3.20887996256\n"
     ]
    },
    {
     "name": "stderr",
     "output_type": "stream",
     "text": [
      "100%|██████████| 29/29 [00:01<00:00, 16.60it/s]\n",
      "100%|██████████| 5/5 [00:00<00:00, 10.30it/s]\n",
      "  0%|          | 0/29 [00:00<?, ?it/s]"
     ]
    },
    {
     "name": "stdout",
     "output_type": "stream",
     "text": [
      "Epoch: 25 Train Error: 0.0307833333333 Validation Error: 0.0293 Loss: 3.10216221958\n"
     ]
    },
    {
     "name": "stderr",
     "output_type": "stream",
     "text": [
      "100%|██████████| 29/29 [00:01<00:00, 16.66it/s]\n",
      "100%|██████████| 5/5 [00:00<00:00, 10.28it/s]\n",
      "  0%|          | 0/29 [00:00<?, ?it/s]"
     ]
    },
    {
     "name": "stdout",
     "output_type": "stream",
     "text": [
      "Epoch: 26 Train Error: 0.0297833333333 Validation Error: 0.0284 Loss: 3.01267367601\n"
     ]
    },
    {
     "name": "stderr",
     "output_type": "stream",
     "text": [
      "100%|██████████| 29/29 [00:01<00:00, 16.74it/s]\n",
      "100%|██████████| 5/5 [00:00<00:00, 10.28it/s]\n",
      "  0%|          | 0/29 [00:00<?, ?it/s]"
     ]
    },
    {
     "name": "stdout",
     "output_type": "stream",
     "text": [
      "Epoch: 27 Train Error: 0.0288833333333 Validation Error: 0.0266 Loss: 2.93950574845\n"
     ]
    },
    {
     "name": "stderr",
     "output_type": "stream",
     "text": [
      "100%|██████████| 29/29 [00:01<00:00, 16.72it/s]\n",
      "100%|██████████| 5/5 [00:00<00:00,  9.76it/s]\n",
      "  0%|          | 0/29 [00:00<?, ?it/s]"
     ]
    },
    {
     "name": "stdout",
     "output_type": "stream",
     "text": [
      "Epoch: 28 Train Error: 0.0281666666667 Validation Error: 0.0269 Loss: 2.84811482579\n"
     ]
    },
    {
     "name": "stderr",
     "output_type": "stream",
     "text": [
      "100%|██████████| 29/29 [00:01<00:00, 17.76it/s]\n",
      "100%|██████████| 5/5 [00:00<00:00, 10.32it/s]\n",
      "  0%|          | 0/29 [00:00<?, ?it/s]"
     ]
    },
    {
     "name": "stdout",
     "output_type": "stream",
     "text": [
      "Epoch: 29 Train Error: 0.0275833333333 Validation Error: 0.026 Loss: 2.77550853044\n"
     ]
    },
    {
     "name": "stderr",
     "output_type": "stream",
     "text": [
      "100%|██████████| 29/29 [00:01<00:00, 17.47it/s]\n",
      "100%|██████████| 5/5 [00:00<00:00,  9.35it/s]\n",
      "  0%|          | 0/29 [00:00<?, ?it/s]"
     ]
    },
    {
     "name": "stdout",
     "output_type": "stream",
     "text": [
      "Epoch: 30 Train Error: 0.0266166666667 Validation Error: 0.0261 Loss: 2.7054682374\n"
     ]
    },
    {
     "name": "stderr",
     "output_type": "stream",
     "text": [
      "100%|██████████| 29/29 [00:01<00:00, 16.01it/s]\n",
      "100%|██████████| 5/5 [00:00<00:00, 10.55it/s]\n",
      "  0%|          | 0/29 [00:00<?, ?it/s]"
     ]
    },
    {
     "name": "stdout",
     "output_type": "stream",
     "text": [
      "Epoch: 31 Train Error: 0.02615 Validation Error: 0.0246 Loss: 2.64267286658\n"
     ]
    },
    {
     "name": "stderr",
     "output_type": "stream",
     "text": [
      "100%|██████████| 29/29 [00:01<00:00, 17.01it/s]\n",
      "100%|██████████| 5/5 [00:00<00:00, 11.28it/s]\n",
      "  0%|          | 0/29 [00:00<?, ?it/s]"
     ]
    },
    {
     "name": "stdout",
     "output_type": "stream",
     "text": [
      "Epoch: 32 Train Error: 0.0252666666667 Validation Error: 0.0238 Loss: 2.58001883328\n"
     ]
    },
    {
     "name": "stderr",
     "output_type": "stream",
     "text": [
      "100%|██████████| 29/29 [00:01<00:00, 16.93it/s]\n",
      "100%|██████████| 5/5 [00:00<00:00, 10.32it/s]\n",
      "  0%|          | 0/29 [00:00<?, ?it/s]"
     ]
    },
    {
     "name": "stdout",
     "output_type": "stream",
     "text": [
      "Epoch: 33 Train Error: 0.0245666666667 Validation Error: 0.0229 Loss: 2.53420570493\n"
     ]
    },
    {
     "name": "stderr",
     "output_type": "stream",
     "text": [
      "100%|██████████| 29/29 [00:01<00:00, 16.91it/s]\n",
      "100%|██████████| 5/5 [00:00<00:00, 10.10it/s]\n",
      "  0%|          | 0/29 [00:00<?, ?it/s]"
     ]
    },
    {
     "name": "stdout",
     "output_type": "stream",
     "text": [
      "Epoch: 34 Train Error: 0.0240166666667 Validation Error: 0.0232 Loss: 2.46673739702\n"
     ]
    },
    {
     "name": "stderr",
     "output_type": "stream",
     "text": [
      "100%|██████████| 29/29 [00:01<00:00, 18.37it/s]\n",
      "100%|██████████| 5/5 [00:00<00:00, 11.63it/s]\n",
      "  0%|          | 0/29 [00:00<?, ?it/s]"
     ]
    },
    {
     "name": "stdout",
     "output_type": "stream",
     "text": [
      "Epoch: 35 Train Error: 0.02345 Validation Error: 0.0222 Loss: 2.41636127979\n"
     ]
    },
    {
     "name": "stderr",
     "output_type": "stream",
     "text": [
      "100%|██████████| 29/29 [00:01<00:00, 18.33it/s]\n",
      "100%|██████████| 5/5 [00:00<00:00, 10.88it/s]\n",
      "  0%|          | 0/29 [00:00<?, ?it/s]"
     ]
    },
    {
     "name": "stdout",
     "output_type": "stream",
     "text": [
      "Epoch: 36 Train Error: 0.02315 Validation Error: 0.0214 Loss: 2.37511203438\n"
     ]
    },
    {
     "name": "stderr",
     "output_type": "stream",
     "text": [
      "100%|██████████| 29/29 [00:01<00:00, 16.94it/s]\n",
      "100%|██████████| 5/5 [00:00<00:00, 11.76it/s]\n",
      "  0%|          | 0/29 [00:00<?, ?it/s]"
     ]
    },
    {
     "name": "stdout",
     "output_type": "stream",
     "text": [
      "Epoch: 37 Train Error: 0.0228 Validation Error: 0.0214 Loss: 2.32442557067\n"
     ]
    },
    {
     "name": "stderr",
     "output_type": "stream",
     "text": [
      "100%|██████████| 29/29 [00:01<00:00, 18.35it/s]\n",
      "100%|██████████| 5/5 [00:00<00:00, 10.59it/s]\n",
      "  0%|          | 0/29 [00:00<?, ?it/s]"
     ]
    },
    {
     "name": "stdout",
     "output_type": "stream",
     "text": [
      "Epoch: 38 Train Error: 0.0223166666667 Validation Error: 0.0208 Loss: 2.28349886835\n"
     ]
    },
    {
     "name": "stderr",
     "output_type": "stream",
     "text": [
      "100%|██████████| 29/29 [00:01<00:00, 17.76it/s]\n",
      "100%|██████████| 5/5 [00:00<00:00, 10.40it/s]\n",
      "  0%|          | 0/29 [00:00<?, ?it/s]"
     ]
    },
    {
     "name": "stdout",
     "output_type": "stream",
     "text": [
      "Epoch: 39 Train Error: 0.0219333333333 Validation Error: 0.0205 Loss: 2.23419236392\n"
     ]
    },
    {
     "name": "stderr",
     "output_type": "stream",
     "text": [
      "100%|██████████| 29/29 [00:01<00:00, 17.12it/s]\n",
      "100%|██████████| 5/5 [00:00<00:00, 10.46it/s]\n",
      "  0%|          | 0/29 [00:00<?, ?it/s]"
     ]
    },
    {
     "name": "stdout",
     "output_type": "stream",
     "text": [
      "Epoch: 40 Train Error: 0.0217166666667 Validation Error: 0.0205 Loss: 2.20073409006\n"
     ]
    },
    {
     "name": "stderr",
     "output_type": "stream",
     "text": [
      "100%|██████████| 29/29 [00:01<00:00, 17.83it/s]\n",
      "100%|██████████| 5/5 [00:00<00:00, 13.07it/s]\n",
      "  0%|          | 0/29 [00:00<?, ?it/s]"
     ]
    },
    {
     "name": "stdout",
     "output_type": "stream",
     "text": [
      "Epoch: 41 Train Error: 0.0210666666667 Validation Error: 0.021 Loss: 2.1792405732\n"
     ]
    },
    {
     "name": "stderr",
     "output_type": "stream",
     "text": [
      "100%|██████████| 29/29 [00:01<00:00, 17.26it/s]\n",
      "100%|██████████| 5/5 [00:00<00:00, 11.83it/s]\n",
      "  0%|          | 0/29 [00:00<?, ?it/s]"
     ]
    },
    {
     "name": "stdout",
     "output_type": "stream",
     "text": [
      "Epoch: 42 Train Error: 0.021 Validation Error: 0.0199 Loss: 2.12836338952\n"
     ]
    },
    {
     "name": "stderr",
     "output_type": "stream",
     "text": [
      "100%|██████████| 29/29 [00:01<00:00, 17.84it/s]\n",
      "100%|██████████| 5/5 [00:00<00:00, 11.86it/s]\n",
      "  0%|          | 0/29 [00:00<?, ?it/s]"
     ]
    },
    {
     "name": "stdout",
     "output_type": "stream",
     "text": [
      "Epoch: 43 Train Error: 0.0203333333333 Validation Error: 0.0196 Loss: 2.10006128624\n"
     ]
    },
    {
     "name": "stderr",
     "output_type": "stream",
     "text": [
      "100%|██████████| 29/29 [00:01<00:00, 17.25it/s]\n",
      "100%|██████████| 5/5 [00:00<00:00,  9.44it/s]\n",
      "  0%|          | 0/29 [00:00<?, ?it/s]"
     ]
    },
    {
     "name": "stdout",
     "output_type": "stream",
     "text": [
      "Epoch: 44 Train Error: 0.0202166666667 Validation Error: 0.02 Loss: 2.06169562787\n"
     ]
    },
    {
     "name": "stderr",
     "output_type": "stream",
     "text": [
      "100%|██████████| 29/29 [00:01<00:00, 17.22it/s]\n",
      "100%|██████████| 5/5 [00:00<00:00, 10.44it/s]\n",
      "  0%|          | 0/29 [00:00<?, ?it/s]"
     ]
    },
    {
     "name": "stdout",
     "output_type": "stream",
     "text": [
      "Epoch: 45 Train Error: 0.0198 Validation Error: 0.0197 Loss: 2.03773223236\n"
     ]
    },
    {
     "name": "stderr",
     "output_type": "stream",
     "text": [
      "100%|██████████| 29/29 [00:01<00:00, 17.72it/s]\n",
      "100%|██████████| 5/5 [00:00<00:00, 10.45it/s]\n",
      "  0%|          | 0/29 [00:00<?, ?it/s]"
     ]
    },
    {
     "name": "stdout",
     "output_type": "stream",
     "text": [
      "Epoch: 46 Train Error: 0.0193166666667 Validation Error: 0.0197 Loss: 1.99847134948\n"
     ]
    },
    {
     "name": "stderr",
     "output_type": "stream",
     "text": [
      "100%|██████████| 29/29 [00:01<00:00, 17.78it/s]\n",
      "100%|██████████| 5/5 [00:00<00:00, 10.76it/s]\n",
      "  0%|          | 0/29 [00:00<?, ?it/s]"
     ]
    },
    {
     "name": "stdout",
     "output_type": "stream",
     "text": [
      "Epoch: 47 Train Error: 0.0189833333333 Validation Error: 0.0198 Loss: 1.96821414307\n"
     ]
    },
    {
     "name": "stderr",
     "output_type": "stream",
     "text": [
      "100%|██████████| 29/29 [00:01<00:00, 16.16it/s]\n",
      "100%|██████████| 5/5 [00:00<00:00,  9.35it/s]\n",
      "  0%|          | 0/29 [00:00<?, ?it/s]"
     ]
    },
    {
     "name": "stdout",
     "output_type": "stream",
     "text": [
      "Epoch: 48 Train Error: 0.0187166666667 Validation Error: 0.0194 Loss: 1.94000001624\n"
     ]
    },
    {
     "name": "stderr",
     "output_type": "stream",
     "text": [
      "100%|██████████| 29/29 [00:01<00:00, 16.87it/s]\n",
      "100%|██████████| 5/5 [00:00<00:00, 11.34it/s]\n"
     ]
    },
    {
     "name": "stdout",
     "output_type": "stream",
     "text": [
      "Epoch: 49 Train Error: 0.0185333333333 Validation Error: 0.0195 Loss: 1.92348279431\n"
     ]
    },
    {
     "data": {
      "image/png": "[encoded data removed]",
      "text/plain": [
       "<Figure size 432x288 with 1 Axes>"
      ]
     },
     "metadata": {
      "needs_background": "light"
     },
     "output_type": "display_data"
    }
   ],
   "source": [
    "net=Lenet5()\n",
    "if device=='cuda':\n",
    "    net.cuda()\n",
    "\n",
    "criterion = torch.nn.CrossEntropyLoss()\n",
    "optimizer = torch.optim.SGD(net.parameters(), lr=.01, momentum=0.9, weight_decay=5e-4)\n",
    "\n",
    "train_performance = []\n",
    "validation_performance = []\n",
    "\n",
    "for epoch in range(50):\n",
    "    train_correct,train_total,train_loss=run_epoch(net, trainloader, criterion, device, optimizer)\n",
    "    train_err=1-float(train_correct)/train_total\n",
    "    test_correct,test_total,test_error=run_epoch(net, testloader, criterion, device, None)\n",
    "    test_err=1-float(test_correct)/test_total\n",
    "    train_performance.append(train_err)\n",
    "    validation_performance.append(test_err)\n",
    "    print \"Epoch: {} Train Error: {} Validation Error: {} Loss: {}\".format(epoch,train_err,test_err,train_loss)\n",
    "\n",
    "plt.semilogy(train_performance)\n",
    "plt.semilogy(validation_performance)\n",
    "plt.legend(['train error','test error'])\n",
    "mnist_train_performance=train_performance\n",
    "mnist_validation_performance=validation_performance"
   ]
  },
  {
   "cell_type": "markdown",
   "metadata": {},
   "source": [
    "### How about a more difficult dataset?"
   ]
  },
  {
   "cell_type": "code",
   "execution_count": 10,
   "metadata": {},
   "outputs": [
    {
     "data": {
      "text/plain": [
       "<matplotlib.image.AxesImage at 0x7f026cdc37d0>"
      ]
     },
     "execution_count": 10,
     "metadata": {},
     "output_type": "execute_result"
    },
    {
     "data": {
      "image/png": "[encoded data removed]",
      "text/plain": [
       "<Figure size 432x288 with 1 Axes>"
      ]
     },
     "metadata": {
      "needs_background": "light"
     },
     "output_type": "display_data"
    }
   ],
   "source": [
    "transform_train = torchvision.transforms.Compose([\n",
    "    torchvision.transforms.ToTensor(),\n",
    "    torchvision.transforms.Normalize((0.1307,), (0.3081,))])\n",
    "\n",
    "transform_test = transform_train\n",
    "\n",
    "trainset = torchvision.datasets.FashionMNIST(root='./fashion_data', train=True, download=True, transform=transform_train)\n",
    "trainloader = torch.utils.data.DataLoader(trainset, batch_size=2096, shuffle=True, num_workers=5)\n",
    "\n",
    "testset = torchvision.datasets.FashionMNIST(root='./fashion_data', train=False, download=True, transform=transform_test)\n",
    "testloader = torch.utils.data.DataLoader(testset, batch_size=2096, shuffle=False, num_workers=5)\n",
    "\n",
    "images, labels = iter(testloader).next()\n",
    "img=torchvision.utils.make_grid(images[:32,:,:,:]).numpy()*.3+.13\n",
    "plt.imshow(img.transpose(1,2,0))"
   ]
  },
  {
   "cell_type": "markdown",
   "metadata": {},
   "source": [
    "### Train on the same model for a harder problem"
   ]
  },
  {
   "cell_type": "code",
   "execution_count": 11,
   "metadata": {},
   "outputs": [
    {
     "name": "stderr",
     "output_type": "stream",
     "text": [
      "100%|██████████| 29/29 [00:01<00:00, 17.55it/s]\n",
      "100%|██████████| 5/5 [00:00<00:00,  9.96it/s]\n",
      "  0%|          | 0/29 [00:00<?, ?it/s]"
     ]
    },
    {
     "name": "stdout",
     "output_type": "stream",
     "text": [
      "Epoch: 0 Train Error: 0.742483333333 Validation Error: 0.564 Loss: 63.6707043648\n"
     ]
    },
    {
     "name": "stderr",
     "output_type": "stream",
     "text": [
      "100%|██████████| 29/29 [00:01<00:00, 16.93it/s]\n",
      "100%|██████████| 5/5 [00:00<00:00,  9.33it/s]\n",
      "  0%|          | 0/29 [00:00<?, ?it/s]"
     ]
    },
    {
     "name": "stdout",
     "output_type": "stream",
     "text": [
      "Epoch: 1 Train Error: 0.5082 Validation Error: 0.451 Loss: 45.7477579117\n"
     ]
    },
    {
     "name": "stderr",
     "output_type": "stream",
     "text": [
      "100%|██████████| 29/29 [00:01<00:00, 16.43it/s]\n",
      "100%|██████████| 5/5 [00:00<00:00, 11.04it/s]\n",
      "  0%|          | 0/29 [00:00<?, ?it/s]"
     ]
    },
    {
     "name": "stdout",
     "output_type": "stream",
     "text": [
      "Epoch: 2 Train Error: 0.419833333333 Validation Error: 0.4082 Loss: 33.7996902466\n"
     ]
    },
    {
     "name": "stderr",
     "output_type": "stream",
     "text": [
      "100%|██████████| 29/29 [00:01<00:00, 16.61it/s]\n",
      "100%|██████████| 5/5 [00:00<00:00,  8.41it/s]\n",
      "  0%|          | 0/29 [00:00<?, ?it/s]"
     ]
    },
    {
     "name": "stdout",
     "output_type": "stream",
     "text": [
      "Epoch: 3 Train Error: 0.365483333333 Validation Error: 0.3407 Loss: 29.1456677914\n"
     ]
    },
    {
     "name": "stderr",
     "output_type": "stream",
     "text": [
      "100%|██████████| 29/29 [00:01<00:00, 15.53it/s]\n",
      "100%|██████████| 5/5 [00:00<00:00, 10.13it/s]\n",
      "  0%|          | 0/29 [00:00<?, ?it/s]"
     ]
    },
    {
     "name": "stdout",
     "output_type": "stream",
     "text": [
      "Epoch: 4 Train Error: 0.310666666667 Validation Error: 0.2957 Loss: 25.7471805215\n"
     ]
    },
    {
     "name": "stderr",
     "output_type": "stream",
     "text": [
      "100%|██████████| 29/29 [00:01<00:00, 16.25it/s]\n",
      "100%|██████████| 5/5 [00:00<00:00, 10.46it/s]\n",
      "  0%|          | 0/29 [00:00<?, ?it/s]"
     ]
    },
    {
     "name": "stdout",
     "output_type": "stream",
     "text": [
      "Epoch: 5 Train Error: 0.27875 Validation Error: 0.2761 Loss: 22.8414520621\n"
     ]
    },
    {
     "name": "stderr",
     "output_type": "stream",
     "text": [
      "100%|██████████| 29/29 [00:01<00:00, 15.82it/s]\n",
      "100%|██████████| 5/5 [00:00<00:00, 10.32it/s]\n",
      "  0%|          | 0/29 [00:00<?, ?it/s]"
     ]
    },
    {
     "name": "stdout",
     "output_type": "stream",
     "text": [
      "Epoch: 6 Train Error: 0.264683333333 Validation Error: 0.267 Loss: 20.7978471518\n"
     ]
    },
    {
     "name": "stderr",
     "output_type": "stream",
     "text": [
      "100%|██████████| 29/29 [00:01<00:00, 16.54it/s]\n",
      "100%|██████████| 5/5 [00:00<00:00, 11.45it/s]\n",
      "  0%|          | 0/29 [00:00<?, ?it/s]"
     ]
    },
    {
     "name": "stdout",
     "output_type": "stream",
     "text": [
      "Epoch: 7 Train Error: 0.257133333333 Validation Error: 0.2618 Loss: 19.4795618653\n"
     ]
    },
    {
     "name": "stderr",
     "output_type": "stream",
     "text": [
      "100%|██████████| 29/29 [00:01<00:00, 17.20it/s]\n",
      "100%|██████████| 5/5 [00:00<00:00, 13.45it/s]\n",
      "  0%|          | 0/29 [00:00<?, ?it/s]"
     ]
    },
    {
     "name": "stdout",
     "output_type": "stream",
     "text": [
      "Epoch: 8 Train Error: 0.247266666667 Validation Error: 0.2538 Loss: 18.5497187972\n"
     ]
    },
    {
     "name": "stderr",
     "output_type": "stream",
     "text": [
      "100%|██████████| 29/29 [00:01<00:00, 17.67it/s]\n",
      "100%|██████████| 5/5 [00:00<00:00, 13.43it/s]\n",
      "  0%|          | 0/29 [00:00<?, ?it/s]"
     ]
    },
    {
     "name": "stdout",
     "output_type": "stream",
     "text": [
      "Epoch: 9 Train Error: 0.239433333333 Validation Error: 0.2449 Loss: 17.7935103178\n"
     ]
    },
    {
     "name": "stderr",
     "output_type": "stream",
     "text": [
      "100%|██████████| 29/29 [00:01<00:00, 17.25it/s]\n",
      "100%|██████████| 5/5 [00:00<00:00, 11.84it/s]\n",
      "  0%|          | 0/29 [00:00<?, ?it/s]"
     ]
    },
    {
     "name": "stdout",
     "output_type": "stream",
     "text": [
      "Epoch: 10 Train Error: 0.23095 Validation Error: 0.2349 Loss: 17.1572739482\n"
     ]
    },
    {
     "name": "stderr",
     "output_type": "stream",
     "text": [
      "100%|██████████| 29/29 [00:01<00:00, 18.35it/s]\n",
      "100%|██████████| 5/5 [00:00<00:00, 11.91it/s]\n",
      "  0%|          | 0/29 [00:00<?, ?it/s]"
     ]
    },
    {
     "name": "stdout",
     "output_type": "stream",
     "text": [
      "Epoch: 11 Train Error: 0.22355 Validation Error: 0.2279 Loss: 16.6235550046\n"
     ]
    },
    {
     "name": "stderr",
     "output_type": "stream",
     "text": [
      "100%|██████████| 29/29 [00:01<00:00, 17.97it/s]\n",
      "100%|██████████| 5/5 [00:00<00:00, 10.45it/s]\n",
      "  0%|          | 0/29 [00:00<?, ?it/s]"
     ]
    },
    {
     "name": "stdout",
     "output_type": "stream",
     "text": [
      "Epoch: 12 Train Error: 0.216183333333 Validation Error: 0.2206 Loss: 16.1738965511\n"
     ]
    },
    {
     "name": "stderr",
     "output_type": "stream",
     "text": [
      "100%|██████████| 29/29 [00:01<00:00, 18.42it/s]\n",
      "100%|██████████| 5/5 [00:00<00:00, 11.87it/s]\n",
      "  0%|          | 0/29 [00:00<?, ?it/s]"
     ]
    },
    {
     "name": "stdout",
     "output_type": "stream",
     "text": [
      "Epoch: 13 Train Error: 0.2101 Validation Error: 0.2152 Loss: 15.7651387453\n"
     ]
    },
    {
     "name": "stderr",
     "output_type": "stream",
     "text": [
      "100%|██████████| 29/29 [00:01<00:00, 17.88it/s]\n",
      "100%|██████████| 5/5 [00:00<00:00, 11.84it/s]\n",
      "  0%|          | 0/29 [00:00<?, ?it/s]"
     ]
    },
    {
     "name": "stdout",
     "output_type": "stream",
     "text": [
      "Epoch: 14 Train Error: 0.2061 Validation Error: 0.211 Loss: 15.418464303\n"
     ]
    },
    {
     "name": "stderr",
     "output_type": "stream",
     "text": [
      "100%|██████████| 29/29 [00:01<00:00, 17.83it/s]\n",
      "100%|██████████| 5/5 [00:00<00:00, 11.78it/s]\n",
      "  0%|          | 0/29 [00:00<?, ?it/s]"
     ]
    },
    {
     "name": "stdout",
     "output_type": "stream",
     "text": [
      "Epoch: 15 Train Error: 0.200766666667 Validation Error: 0.2066 Loss: 15.094745934\n"
     ]
    },
    {
     "name": "stderr",
     "output_type": "stream",
     "text": [
      "100%|██████████| 29/29 [00:01<00:00, 18.40it/s]\n",
      "100%|██████████| 5/5 [00:00<00:00, 10.42it/s]\n",
      "  0%|          | 0/29 [00:00<?, ?it/s]"
     ]
    },
    {
     "name": "stdout",
     "output_type": "stream",
     "text": [
      "Epoch: 16 Train Error: 0.197 Validation Error: 0.2024 Loss: 14.775729686\n"
     ]
    },
    {
     "name": "stderr",
     "output_type": "stream",
     "text": [
      "100%|██████████| 29/29 [00:01<00:00, 18.36it/s]\n",
      "100%|██████████| 5/5 [00:00<00:00, 10.01it/s]\n",
      "  0%|          | 0/29 [00:00<?, ?it/s]"
     ]
    },
    {
     "name": "stdout",
     "output_type": "stream",
     "text": [
      "Epoch: 17 Train Error: 0.192066666667 Validation Error: 0.1976 Loss: 14.4937308431\n"
     ]
    },
    {
     "name": "stderr",
     "output_type": "stream",
     "text": [
      "100%|██████████| 29/29 [00:01<00:00, 16.39it/s]\n",
      "100%|██████████| 5/5 [00:00<00:00, 10.11it/s]\n",
      "  0%|          | 0/29 [00:00<?, ?it/s]"
     ]
    },
    {
     "name": "stdout",
     "output_type": "stream",
     "text": [
      "Epoch: 18 Train Error: 0.188016666667 Validation Error: 0.1953 Loss: 14.2382565737\n"
     ]
    },
    {
     "name": "stderr",
     "output_type": "stream",
     "text": [
      "100%|██████████| 29/29 [00:01<00:00, 17.17it/s]\n",
      "100%|██████████| 5/5 [00:00<00:00, 10.04it/s]\n",
      "  0%|          | 0/29 [00:00<?, ?it/s]"
     ]
    },
    {
     "name": "stdout",
     "output_type": "stream",
     "text": [
      "Epoch: 19 Train Error: 0.18365 Validation Error: 0.1897 Loss: 14.0200026631\n"
     ]
    },
    {
     "name": "stderr",
     "output_type": "stream",
     "text": [
      "100%|██████████| 29/29 [00:01<00:00, 16.83it/s]\n",
      "100%|██████████| 5/5 [00:00<00:00, 10.37it/s]\n",
      "  0%|          | 0/29 [00:00<?, ?it/s]"
     ]
    },
    {
     "name": "stdout",
     "output_type": "stream",
     "text": [
      "Epoch: 20 Train Error: 0.1784 Validation Error: 0.1851 Loss: 13.7469357252\n"
     ]
    },
    {
     "name": "stderr",
     "output_type": "stream",
     "text": [
      "100%|██████████| 29/29 [00:01<00:00, 17.24it/s]\n",
      "100%|██████████| 5/5 [00:00<00:00, 10.42it/s]\n",
      "  0%|          | 0/29 [00:00<?, ?it/s]"
     ]
    },
    {
     "name": "stdout",
     "output_type": "stream",
     "text": [
      "Epoch: 21 Train Error: 0.175183333333 Validation Error: 0.1809 Loss: 13.5326248109\n"
     ]
    },
    {
     "name": "stderr",
     "output_type": "stream",
     "text": [
      "100%|██████████| 29/29 [00:01<00:00, 17.01it/s]\n",
      "100%|██████████| 5/5 [00:00<00:00, 13.18it/s]\n",
      "  0%|          | 0/29 [00:00<?, ?it/s]"
     ]
    },
    {
     "name": "stdout",
     "output_type": "stream",
     "text": [
      "Epoch: 22 Train Error: 0.169866666667 Validation Error: 0.1766 Loss: 13.3000222445\n"
     ]
    },
    {
     "name": "stderr",
     "output_type": "stream",
     "text": [
      "100%|██████████| 29/29 [00:01<00:00, 17.29it/s]\n",
      "100%|██████████| 5/5 [00:00<00:00, 11.72it/s]\n",
      "  0%|          | 0/29 [00:00<?, ?it/s]"
     ]
    },
    {
     "name": "stdout",
     "output_type": "stream",
     "text": [
      "Epoch: 23 Train Error: 0.165266666667 Validation Error: 0.1735 Loss: 13.052290827\n"
     ]
    },
    {
     "name": "stderr",
     "output_type": "stream",
     "text": [
      "100%|██████████| 29/29 [00:01<00:00, 18.07it/s]\n",
      "100%|██████████| 5/5 [00:00<00:00,  9.81it/s]\n",
      "  0%|          | 0/29 [00:00<?, ?it/s]"
     ]
    },
    {
     "name": "stdout",
     "output_type": "stream",
     "text": [
      "Epoch: 24 Train Error: 0.161916666667 Validation Error: 0.1706 Loss: 12.8631730378\n"
     ]
    },
    {
     "name": "stderr",
     "output_type": "stream",
     "text": [
      "100%|██████████| 29/29 [00:01<00:00, 18.12it/s]\n",
      "100%|██████████| 5/5 [00:00<00:00, 10.37it/s]\n",
      "  0%|          | 0/29 [00:00<?, ?it/s]"
     ]
    },
    {
     "name": "stdout",
     "output_type": "stream",
     "text": [
      "Epoch: 25 Train Error: 0.157416666667 Validation Error: 0.1667 Loss: 12.6423960328\n"
     ]
    },
    {
     "name": "stderr",
     "output_type": "stream",
     "text": [
      "100%|██████████| 29/29 [00:01<00:00, 17.22it/s]\n",
      "100%|██████████| 5/5 [00:00<00:00, 11.50it/s]\n",
      "  0%|          | 0/29 [00:00<?, ?it/s]"
     ]
    },
    {
     "name": "stdout",
     "output_type": "stream",
     "text": [
      "Epoch: 26 Train Error: 0.15465 Validation Error: 0.1637 Loss: 12.4790810943\n"
     ]
    },
    {
     "name": "stderr",
     "output_type": "stream",
     "text": [
      "100%|██████████| 29/29 [00:01<00:00, 17.66it/s]\n",
      "100%|██████████| 5/5 [00:00<00:00,  9.88it/s]\n",
      "  0%|          | 0/29 [00:00<?, ?it/s]"
     ]
    },
    {
     "name": "stdout",
     "output_type": "stream",
     "text": [
      "Epoch: 27 Train Error: 0.1522 Validation Error: 0.1606 Loss: 12.3186948597\n"
     ]
    },
    {
     "name": "stderr",
     "output_type": "stream",
     "text": [
      "100%|██████████| 29/29 [00:01<00:00, 16.68it/s]\n",
      "100%|██████████| 5/5 [00:00<00:00, 11.05it/s]\n",
      "  0%|          | 0/29 [00:00<?, ?it/s]"
     ]
    },
    {
     "name": "stdout",
     "output_type": "stream",
     "text": [
      "Epoch: 28 Train Error: 0.14925 Validation Error: 0.1595 Loss: 12.1229485571\n"
     ]
    },
    {
     "name": "stderr",
     "output_type": "stream",
     "text": [
      "100%|██████████| 29/29 [00:01<00:00, 16.53it/s]\n",
      "100%|██████████| 5/5 [00:00<00:00, 10.17it/s]\n",
      "  0%|          | 0/29 [00:00<?, ?it/s]"
     ]
    },
    {
     "name": "stdout",
     "output_type": "stream",
     "text": [
      "Epoch: 29 Train Error: 0.148566666667 Validation Error: 0.1562 Loss: 12.006069988\n"
     ]
    },
    {
     "name": "stderr",
     "output_type": "stream",
     "text": [
      "100%|██████████| 29/29 [00:01<00:00, 17.72it/s]\n",
      "100%|██████████| 5/5 [00:00<00:00, 10.12it/s]\n",
      "  0%|          | 0/29 [00:00<?, ?it/s]"
     ]
    },
    {
     "name": "stdout",
     "output_type": "stream",
     "text": [
      "Epoch: 30 Train Error: 0.1449 Validation Error: 0.1591 Loss: 11.7996165156\n"
     ]
    },
    {
     "name": "stderr",
     "output_type": "stream",
     "text": [
      "100%|██████████| 29/29 [00:01<00:00, 17.60it/s]\n",
      "100%|██████████| 5/5 [00:00<00:00,  9.79it/s]\n",
      "  0%|          | 0/29 [00:00<?, ?it/s]"
     ]
    },
    {
     "name": "stdout",
     "output_type": "stream",
     "text": [
      "Epoch: 31 Train Error: 0.145183333333 Validation Error: 0.1525 Loss: 11.7778265476\n"
     ]
    },
    {
     "name": "stderr",
     "output_type": "stream",
     "text": [
      "100%|██████████| 29/29 [00:01<00:00, 16.19it/s]\n",
      "100%|██████████| 5/5 [00:00<00:00, 11.37it/s]\n",
      "  0%|          | 0/29 [00:00<?, ?it/s]"
     ]
    },
    {
     "name": "stdout",
     "output_type": "stream",
     "text": [
      "Epoch: 32 Train Error: 0.141166666667 Validation Error: 0.151 Loss: 11.5308769941\n"
     ]
    },
    {
     "name": "stderr",
     "output_type": "stream",
     "text": [
      "100%|██████████| 29/29 [00:01<00:00, 16.15it/s]\n",
      "100%|██████████| 5/5 [00:00<00:00,  9.06it/s]\n",
      "  0%|          | 0/29 [00:00<?, ?it/s]"
     ]
    },
    {
     "name": "stdout",
     "output_type": "stream",
     "text": [
      "Epoch: 33 Train Error: 0.139883333333 Validation Error: 0.1492 Loss: 11.4119955599\n"
     ]
    },
    {
     "name": "stderr",
     "output_type": "stream",
     "text": [
      "100%|██████████| 29/29 [00:01<00:00, 16.53it/s]\n",
      "100%|██████████| 5/5 [00:00<00:00,  9.94it/s]\n",
      "  0%|          | 0/29 [00:00<?, ?it/s]"
     ]
    },
    {
     "name": "stdout",
     "output_type": "stream",
     "text": [
      "Epoch: 34 Train Error: 0.137966666667 Validation Error: 0.1494 Loss: 11.2521239817\n"
     ]
    },
    {
     "name": "stderr",
     "output_type": "stream",
     "text": [
      "100%|██████████| 29/29 [00:01<00:00, 16.23it/s]\n",
      "100%|██████████| 5/5 [00:00<00:00, 11.56it/s]\n",
      "  0%|          | 0/29 [00:00<?, ?it/s]"
     ]
    },
    {
     "name": "stdout",
     "output_type": "stream",
     "text": [
      "Epoch: 35 Train Error: 0.1373 Validation Error: 0.1466 Loss: 11.1489563882\n"
     ]
    },
    {
     "name": "stderr",
     "output_type": "stream",
     "text": [
      "100%|██████████| 29/29 [00:01<00:00, 16.79it/s]\n",
      "100%|██████████| 5/5 [00:00<00:00, 11.66it/s]\n",
      "  0%|          | 0/29 [00:00<?, ?it/s]"
     ]
    },
    {
     "name": "stdout",
     "output_type": "stream",
     "text": [
      "Epoch: 36 Train Error: 0.136633333333 Validation Error: 0.1456 Loss: 11.0411013365\n"
     ]
    },
    {
     "name": "stderr",
     "output_type": "stream",
     "text": [
      "100%|██████████| 29/29 [00:01<00:00, 16.67it/s]\n",
      "100%|██████████| 5/5 [00:00<00:00, 10.71it/s]\n",
      "  0%|          | 0/29 [00:00<?, ?it/s]"
     ]
    },
    {
     "name": "stdout",
     "output_type": "stream",
     "text": [
      "Epoch: 37 Train Error: 0.13435 Validation Error: 0.1432 Loss: 10.9103147686\n"
     ]
    },
    {
     "name": "stderr",
     "output_type": "stream",
     "text": [
      "100%|██████████| 29/29 [00:01<00:00, 18.11it/s]\n",
      "100%|██████████| 5/5 [00:00<00:00, 11.53it/s]\n",
      "  0%|          | 0/29 [00:00<?, ?it/s]"
     ]
    },
    {
     "name": "stdout",
     "output_type": "stream",
     "text": [
      "Epoch: 38 Train Error: 0.135183333333 Validation Error: 0.1414 Loss: 10.9537292421\n"
     ]
    },
    {
     "name": "stderr",
     "output_type": "stream",
     "text": [
      "100%|██████████| 29/29 [00:01<00:00, 16.72it/s]\n",
      "100%|██████████| 5/5 [00:00<00:00, 11.69it/s]\n",
      "  0%|          | 0/29 [00:00<?, ?it/s]"
     ]
    },
    {
     "name": "stdout",
     "output_type": "stream",
     "text": [
      "Epoch: 39 Train Error: 0.132616666667 Validation Error: 0.1449 Loss: 10.7314349413\n"
     ]
    },
    {
     "name": "stderr",
     "output_type": "stream",
     "text": [
      "100%|██████████| 29/29 [00:01<00:00, 17.11it/s]\n",
      "100%|██████████| 5/5 [00:00<00:00, 10.21it/s]\n",
      "  0%|          | 0/29 [00:00<?, ?it/s]"
     ]
    },
    {
     "name": "stdout",
     "output_type": "stream",
     "text": [
      "Epoch: 40 Train Error: 0.1336 Validation Error: 0.1394 Loss: 10.7331635952\n"
     ]
    },
    {
     "name": "stderr",
     "output_type": "stream",
     "text": [
      "100%|██████████| 29/29 [00:01<00:00, 17.10it/s]\n",
      "100%|██████████| 5/5 [00:00<00:00, 10.39it/s]\n",
      "  0%|          | 0/29 [00:00<?, ?it/s]"
     ]
    },
    {
     "name": "stdout",
     "output_type": "stream",
     "text": [
      "Epoch: 41 Train Error: 0.1307 Validation Error: 0.1401 Loss: 10.6071522534\n"
     ]
    },
    {
     "name": "stderr",
     "output_type": "stream",
     "text": [
      "100%|██████████| 29/29 [00:01<00:00, 16.84it/s]\n",
      "100%|██████████| 5/5 [00:00<00:00, 11.56it/s]\n",
      "  0%|          | 0/29 [00:00<?, ?it/s]"
     ]
    },
    {
     "name": "stdout",
     "output_type": "stream",
     "text": [
      "Epoch: 42 Train Error: 0.13065 Validation Error: 0.1397 Loss: 10.5235634446\n"
     ]
    },
    {
     "name": "stderr",
     "output_type": "stream",
     "text": [
      "100%|██████████| 29/29 [00:01<00:00, 17.71it/s]\n",
      "100%|██████████| 5/5 [00:00<00:00, 10.26it/s]\n",
      "  0%|          | 0/29 [00:00<?, ?it/s]"
     ]
    },
    {
     "name": "stdout",
     "output_type": "stream",
     "text": [
      "Epoch: 43 Train Error: 0.128216666667 Validation Error: 0.1405 Loss: 10.3763130903\n"
     ]
    },
    {
     "name": "stderr",
     "output_type": "stream",
     "text": [
      "100%|██████████| 29/29 [00:01<00:00, 17.78it/s]\n",
      "100%|██████████| 5/5 [00:00<00:00, 10.15it/s]\n",
      "  0%|          | 0/29 [00:00<?, ?it/s]"
     ]
    },
    {
     "name": "stdout",
     "output_type": "stream",
     "text": [
      "Epoch: 44 Train Error: 0.129466666667 Validation Error: 0.1389 Loss: 10.4259046614\n"
     ]
    },
    {
     "name": "stderr",
     "output_type": "stream",
     "text": [
      "100%|██████████| 29/29 [00:01<00:00, 17.10it/s]\n",
      "100%|██████████| 5/5 [00:00<00:00, 11.64it/s]\n",
      "  0%|          | 0/29 [00:00<?, ?it/s]"
     ]
    },
    {
     "name": "stdout",
     "output_type": "stream",
     "text": [
      "Epoch: 45 Train Error: 0.12685 Validation Error: 0.1388 Loss: 10.2314409316\n"
     ]
    },
    {
     "name": "stderr",
     "output_type": "stream",
     "text": [
      "100%|██████████| 29/29 [00:01<00:00, 16.77it/s]\n",
      "100%|██████████| 5/5 [00:00<00:00, 10.91it/s]\n",
      "  0%|          | 0/29 [00:00<?, ?it/s]"
     ]
    },
    {
     "name": "stdout",
     "output_type": "stream",
     "text": [
      "Epoch: 46 Train Error: 0.125383333333 Validation Error: 0.1362 Loss: 10.1427651346\n"
     ]
    },
    {
     "name": "stderr",
     "output_type": "stream",
     "text": [
      "100%|██████████| 29/29 [00:01<00:00, 17.72it/s]\n",
      "100%|██████████| 5/5 [00:00<00:00, 10.47it/s]\n",
      "  0%|          | 0/29 [00:00<?, ?it/s]"
     ]
    },
    {
     "name": "stdout",
     "output_type": "stream",
     "text": [
      "Epoch: 47 Train Error: 0.1251 Validation Error: 0.1366 Loss: 10.1600523591\n"
     ]
    },
    {
     "name": "stderr",
     "output_type": "stream",
     "text": [
      "100%|██████████| 29/29 [00:01<00:00, 17.70it/s]\n",
      "100%|██████████| 5/5 [00:00<00:00, 12.58it/s]\n",
      "  0%|          | 0/29 [00:00<?, ?it/s]"
     ]
    },
    {
     "name": "stdout",
     "output_type": "stream",
     "text": [
      "Epoch: 48 Train Error: 0.12535 Validation Error: 0.1358 Loss: 10.0970909894\n"
     ]
    },
    {
     "name": "stderr",
     "output_type": "stream",
     "text": [
      "100%|██████████| 29/29 [00:01<00:00, 17.17it/s]\n",
      "100%|██████████| 5/5 [00:00<00:00,  9.82it/s]"
     ]
    },
    {
     "name": "stdout",
     "output_type": "stream",
     "text": [
      "Epoch: 49 Train Error: 0.123066666667 Validation Error: 0.1346 Loss: 9.98902839422\n"
     ]
    },
    {
     "name": "stderr",
     "output_type": "stream",
     "text": [
      "\n"
     ]
    },
    {
     "data": {
      "text/plain": [
       "<matplotlib.legend.Legend at 0x7f026cd42150>"
      ]
     },
     "execution_count": 11,
     "metadata": {},
     "output_type": "execute_result"
    },
    {
     "data": {
      "image/png": "[encoded data removed]",
      "text/plain": [
       "<Figure size 432x288 with 1 Axes>"
      ]
     },
     "metadata": {
      "needs_background": "light"
     },
     "output_type": "display_data"
    }
   ],
   "source": [
    "net=Lenet5()\n",
    "if device=='cuda':\n",
    "    net.cuda()\n",
    "\n",
    "criterion = torch.nn.CrossEntropyLoss()\n",
    "optimizer = torch.optim.SGD(net.parameters(), lr=.01, momentum=0.9, weight_decay=5e-4)\n",
    "\n",
    "train_performance = []\n",
    "validation_performance = []\n",
    "\n",
    "for epoch in range(50):\n",
    "    train_correct,train_total,train_loss=run_epoch(net, trainloader, criterion, device, optimizer)\n",
    "    train_err=1-float(train_correct)/train_total\n",
    "    test_correct,test_total,test_error=run_epoch(net, testloader, criterion, device, None)\n",
    "    test_err=1-float(test_correct)/test_total\n",
    "    train_performance.append(train_err)\n",
    "    validation_performance.append(test_err)\n",
    "    print \"Epoch: {} Train Error: {} Validation Error: {} Loss: {}\".format(epoch,train_err,test_err,train_loss)\n",
    "\n",
    "plt.semilogy(train_performance)\n",
    "plt.semilogy(validation_performance)\n",
    "plt.semilogy(mnist_train_performance)\n",
    "plt.semilogy(mnist_validation_performance)\n",
    "plt.legend(['Fashion train error','Fashion test error','MNIST train error','MNIST test error'])"
   ]
  },
  {
   "cell_type": "markdown",
   "metadata": {},
   "source": [
    "### Define a Larger Network"
   ]
  },
  {
   "cell_type": "code",
   "execution_count": 12,
   "metadata": {},
   "outputs": [],
   "source": [
    "class ColorCNN(torch.nn.Module):\n",
    "    def __init__(self,filename=\"\",input_size=(32,32,3)):\n",
    "        super(ColorCNN, self).__init__()\n",
    "        self.input_size = input_size\n",
    "        self.conv1 = torch.nn.Conv2d(3, 16, (3, 3))\n",
    "        self.conv2 = torch.nn.Conv2d(16, 16, (3, 3))\n",
    "        \n",
    "        self.conv3 = torch.nn.Conv2d(16,32, (3, 3))\n",
    "        self.conv4 = torch.nn.Conv2d(32, 32, (3, 3))\n",
    "        \n",
    "        activation_width = lambda x: (((x-4)/2)-4)/2\n",
    "        activation_height = lambda x: (((x-4)/2)-4)/2\n",
    "        \n",
    "        self.pool = torch.nn.MaxPool2d(2, 2)\n",
    "        self.dropout2d = torch.nn.Dropout2d(p=0.1)\n",
    "        self.dropout_fc = torch.nn.Dropout(p=0.1)\n",
    "        \n",
    "        self.last_conv_size=activation_width(input_size[0])*activation_height(input_size[1])*int(self.conv4.bias.shape[0])\n",
    "        \n",
    "        self.fc1 = torch.nn.Linear(self.last_conv_size, 256)\n",
    "        self.fc2 = torch.nn.Linear(256, 128)\n",
    "        self.fc_class = torch.nn.Linear(128, 10)\n",
    "        \n",
    "                \n",
    "    def forward(self,X):\n",
    "        layer1_activations=self.dropout2d( F.relu(self.conv1(X)))\n",
    "        layer2_activations=self.dropout2d( F.relu(self.conv2(layer1_activations)))\n",
    "        layer3_activations=self.pool(layer2_activations)\n",
    "\n",
    "        layer4_activations=self.dropout2d( F.relu(self.conv3(layer3_activations)))\n",
    "        layer5_activations=self.dropout2d( F.relu(self.conv4(layer4_activations)))\n",
    "        layer6_activations=self.pool(layer5_activations)\n",
    "\n",
    "        layer7_activations=layer6_activations.view([layer6_activations.size()[0], self.last_conv_size])\n",
    "        layer7_activations=self.dropout_fc(F.relu(self.fc1(layer7_activations)))\n",
    "        layer8_activations=self.dropout_fc(F.relu(self.fc2(layer7_activations)))\n",
    "        output_logits=self.fc_class(layer8_activations)\n",
    "        \n",
    "        return output_logits\n"
   ]
  },
  {
   "cell_type": "markdown",
   "metadata": {},
   "source": [
    "### Load a harder dataset"
   ]
  },
  {
   "cell_type": "code",
   "execution_count": 13,
   "metadata": {},
   "outputs": [
    {
     "name": "stdout",
     "output_type": "stream",
     "text": [
      "Files already downloaded and verified\n",
      "Files already downloaded and verified\n"
     ]
    },
    {
     "data": {
      "text/plain": [
       "<matplotlib.image.AxesImage at 0x7f026cc339d0>"
      ]
     },
     "execution_count": 13,
     "metadata": {},
     "output_type": "execute_result"
    },
    {
     "data": {
      "image/png": "[encoded data removed]",
      "text/plain": [
       "<Figure size 432x288 with 1 Axes>"
      ]
     },
     "metadata": {
      "needs_background": "light"
     },
     "output_type": "display_data"
    }
   ],
   "source": [
    "transform_train = torchvision.transforms.Compose([\n",
    "    torchvision.transforms.RandomCrop(32, padding=4),\n",
    "    torchvision.transforms.RandomHorizontalFlip(),\n",
    "    torchvision.transforms.ToTensor(),\n",
    "    torchvision.transforms.Normalize((0.4914, 0.4822, 0.4465), (0.2023, 0.1994, 0.2010)),\n",
    "])\n",
    "\n",
    "transform_test = torchvision.transforms.Compose([\n",
    "    torchvision.transforms.ToTensor(),\n",
    "    torchvision.transforms.Normalize((0.4914, 0.4822, 0.4465), (0.2023, 0.1994, 0.2010)),\n",
    "])\n",
    "\n",
    "trainset = torchvision.datasets.CIFAR10(root='./data', train=True, download=True, transform=transform_train)\n",
    "trainloader = torch.utils.data.DataLoader(trainset, batch_size=512, shuffle=True, num_workers=2)\n",
    "\n",
    "testset = torchvision.datasets.CIFAR10(root='./data', train=False, download=True, transform=transform_test)\n",
    "testloader = torch.utils.data.DataLoader(testset, batch_size=100, shuffle=False, num_workers=2)\n",
    "\n",
    "images, labels = iter(testloader).next()\n",
    "img=torchvision.utils.make_grid(images[:32,:,:,:]).numpy() / 2 + 0.5\n",
    "plt.imshow(img.transpose(1,2,0))"
   ]
  },
  {
   "cell_type": "markdown",
   "metadata": {},
   "source": [
    "### Train the larger network on the hardest dataset"
   ]
  },
  {
   "cell_type": "code",
   "execution_count": 14,
   "metadata": {},
   "outputs": [
    {
     "name": "stderr",
     "output_type": "stream",
     "text": [
      "100%|██████████| 98/98 [00:05<00:00, 19.50it/s]\n",
      "100%|██████████| 100/100 [00:00<00:00, 140.86it/s]\n",
      "  0%|          | 0/98 [00:00<?, ?it/s]"
     ]
    },
    {
     "name": "stdout",
     "output_type": "stream",
     "text": [
      "Epoch: 0 Train Error: 0.10038 Validation Error: 0.1004 Loss: 225.652438641\n"
     ]
    },
    {
     "name": "stderr",
     "output_type": "stream",
     "text": [
      "100%|██████████| 98/98 [00:05<00:00, 19.55it/s]\n",
      "100%|██████████| 100/100 [00:00<00:00, 126.83it/s]\n",
      "  0%|          | 0/98 [00:00<?, ?it/s]"
     ]
    },
    {
     "name": "stdout",
     "output_type": "stream",
     "text": [
      "Epoch: 1 Train Error: 0.10766 Validation Error: 0.1131 Loss: 225.477940083\n"
     ]
    },
    {
     "name": "stderr",
     "output_type": "stream",
     "text": [
      "100%|██████████| 98/98 [00:04<00:00, 19.74it/s]\n",
      "100%|██████████| 100/100 [00:00<00:00, 130.49it/s]\n",
      "  0%|          | 0/98 [00:00<?, ?it/s]"
     ]
    },
    {
     "name": "stdout",
     "output_type": "stream",
     "text": [
      "Epoch: 2 Train Error: 0.14778 Validation Error: 0.1993 Loss: 221.372686625\n"
     ]
    },
    {
     "name": "stderr",
     "output_type": "stream",
     "text": [
      "100%|██████████| 98/98 [00:05<00:00, 19.57it/s]\n",
      "100%|██████████| 100/100 [00:00<00:00, 130.59it/s]\n",
      "  0%|          | 0/98 [00:00<?, ?it/s]"
     ]
    },
    {
     "name": "stdout",
     "output_type": "stream",
     "text": [
      "Epoch: 3 Train Error: 0.2238 Validation Error: 0.2571 Loss: 209.208384275\n"
     ]
    },
    {
     "name": "stderr",
     "output_type": "stream",
     "text": [
      "100%|██████████| 98/98 [00:04<00:00, 19.69it/s]\n",
      "100%|██████████| 100/100 [00:00<00:00, 141.09it/s]\n",
      "  0%|          | 0/98 [00:00<?, ?it/s]"
     ]
    },
    {
     "name": "stdout",
     "output_type": "stream",
     "text": [
      "Epoch: 4 Train Error: 0.24816 Validation Error: 0.2814 Loss: 200.170040369\n"
     ]
    },
    {
     "name": "stderr",
     "output_type": "stream",
     "text": [
      "100%|██████████| 98/98 [00:04<00:00, 19.70it/s]\n",
      "100%|██████████| 100/100 [00:00<00:00, 139.82it/s]\n",
      "  0%|          | 0/98 [00:00<?, ?it/s]"
     ]
    },
    {
     "name": "stdout",
     "output_type": "stream",
     "text": [
      "Epoch: 5 Train Error: 0.27704 Validation Error: 0.3136 Loss: 193.28186667\n"
     ]
    },
    {
     "name": "stderr",
     "output_type": "stream",
     "text": [
      "100%|██████████| 98/98 [00:05<00:00, 19.51it/s]\n",
      "100%|██████████| 100/100 [00:00<00:00, 120.31it/s]\n",
      "  0%|          | 0/98 [00:00<?, ?it/s]"
     ]
    },
    {
     "name": "stdout",
     "output_type": "stream",
     "text": [
      "Epoch: 6 Train Error: 0.29782 Validation Error: 0.3339 Loss: 187.799067497\n"
     ]
    },
    {
     "name": "stderr",
     "output_type": "stream",
     "text": [
      "100%|██████████| 98/98 [00:04<00:00, 19.70it/s]\n",
      "100%|██████████| 100/100 [00:00<00:00, 129.62it/s]\n",
      "  0%|          | 0/98 [00:00<?, ?it/s]"
     ]
    },
    {
     "name": "stdout",
     "output_type": "stream",
     "text": [
      "Epoch: 7 Train Error: 0.32162 Validation Error: 0.3608 Loss: 182.439646244\n"
     ]
    },
    {
     "name": "stderr",
     "output_type": "stream",
     "text": [
      "100%|██████████| 98/98 [00:05<00:00, 19.49it/s]\n",
      "100%|██████████| 100/100 [00:00<00:00, 121.86it/s]\n",
      "  0%|          | 0/98 [00:00<?, ?it/s]"
     ]
    },
    {
     "name": "stdout",
     "output_type": "stream",
     "text": [
      "Epoch: 8 Train Error: 0.33912 Validation Error: 0.3818 Loss: 177.034400344\n"
     ]
    },
    {
     "name": "stderr",
     "output_type": "stream",
     "text": [
      "100%|██████████| 98/98 [00:05<00:00, 19.55it/s]\n",
      "100%|██████████| 100/100 [00:00<00:00, 137.97it/s]\n",
      "  0%|          | 0/98 [00:00<?, ?it/s]"
     ]
    },
    {
     "name": "stdout",
     "output_type": "stream",
     "text": [
      "Epoch: 9 Train Error: 0.35994 Validation Error: 0.4025 Loss: 172.234669805\n"
     ]
    },
    {
     "name": "stderr",
     "output_type": "stream",
     "text": [
      "100%|██████████| 98/98 [00:05<00:00, 19.50it/s]\n",
      "100%|██████████| 100/100 [00:00<00:00, 138.58it/s]\n",
      "  0%|          | 0/98 [00:00<?, ?it/s]"
     ]
    },
    {
     "name": "stdout",
     "output_type": "stream",
     "text": [
      "Epoch: 10 Train Error: 0.37586 Validation Error: 0.4179 Loss: 167.884535193\n"
     ]
    },
    {
     "name": "stderr",
     "output_type": "stream",
     "text": [
      "100%|██████████| 98/98 [00:05<00:00, 19.57it/s]\n",
      "100%|██████████| 100/100 [00:00<00:00, 130.83it/s]\n",
      "  0%|          | 0/98 [00:00<?, ?it/s]"
     ]
    },
    {
     "name": "stdout",
     "output_type": "stream",
     "text": [
      "Epoch: 11 Train Error: 0.38692 Validation Error: 0.4356 Loss: 165.149345279\n"
     ]
    },
    {
     "name": "stderr",
     "output_type": "stream",
     "text": [
      "100%|██████████| 98/98 [00:05<00:00, 19.49it/s]\n",
      "100%|██████████| 100/100 [00:00<00:00, 130.67it/s]\n",
      "  0%|          | 0/98 [00:00<?, ?it/s]"
     ]
    },
    {
     "name": "stdout",
     "output_type": "stream",
     "text": [
      "Epoch: 12 Train Error: 0.39744 Validation Error: 0.4446 Loss: 162.229325533\n"
     ]
    },
    {
     "name": "stderr",
     "output_type": "stream",
     "text": [
      "100%|██████████| 98/98 [00:04<00:00, 19.85it/s]\n",
      "100%|██████████| 100/100 [00:00<00:00, 122.50it/s]\n",
      "  0%|          | 0/98 [00:00<?, ?it/s]"
     ]
    },
    {
     "name": "stdout",
     "output_type": "stream",
     "text": [
      "Epoch: 13 Train Error: 0.4087 Validation Error: 0.4509 Loss: 159.59139514\n"
     ]
    },
    {
     "name": "stderr",
     "output_type": "stream",
     "text": [
      "100%|██████████| 98/98 [00:05<00:00, 19.47it/s]\n",
      "100%|██████████| 100/100 [00:00<00:00, 120.02it/s]\n",
      "  0%|          | 0/98 [00:00<?, ?it/s]"
     ]
    },
    {
     "name": "stdout",
     "output_type": "stream",
     "text": [
      "Epoch: 14 Train Error: 0.41742 Validation Error: 0.4572 Loss: 157.313748956\n"
     ]
    },
    {
     "name": "stderr",
     "output_type": "stream",
     "text": [
      "100%|██████████| 98/98 [00:05<00:00, 19.35it/s]\n",
      "100%|██████████| 100/100 [00:00<00:00, 131.16it/s]\n",
      "  0%|          | 0/98 [00:00<?, ?it/s]"
     ]
    },
    {
     "name": "stdout",
     "output_type": "stream",
     "text": [
      "Epoch: 15 Train Error: 0.42432 Validation Error: 0.469 Loss: 155.634839296\n"
     ]
    },
    {
     "name": "stderr",
     "output_type": "stream",
     "text": [
      "100%|██████████| 98/98 [00:04<00:00, 19.77it/s]\n",
      "100%|██████████| 100/100 [00:00<00:00, 139.75it/s]\n",
      "  0%|          | 0/98 [00:00<?, ?it/s]"
     ]
    },
    {
     "name": "stdout",
     "output_type": "stream",
     "text": [
      "Epoch: 16 Train Error: 0.43188 Validation Error: 0.4651 Loss: 153.315640092\n"
     ]
    },
    {
     "name": "stderr",
     "output_type": "stream",
     "text": [
      "100%|██████████| 98/98 [00:05<00:00, 19.30it/s]\n",
      "100%|██████████| 100/100 [00:00<00:00, 131.09it/s]\n",
      "  0%|          | 0/98 [00:00<?, ?it/s]"
     ]
    },
    {
     "name": "stdout",
     "output_type": "stream",
     "text": [
      "Epoch: 17 Train Error: 0.4379 Validation Error: 0.4786 Loss: 151.733971953\n"
     ]
    },
    {
     "name": "stderr",
     "output_type": "stream",
     "text": [
      "100%|██████████| 98/98 [00:04<00:00, 19.70it/s]\n",
      "100%|██████████| 100/100 [00:00<00:00, 129.69it/s]\n",
      "  0%|          | 0/98 [00:00<?, ?it/s]"
     ]
    },
    {
     "name": "stdout",
     "output_type": "stream",
     "text": [
      "Epoch: 18 Train Error: 0.44414 Validation Error: 0.4783 Loss: 149.966870666\n"
     ]
    },
    {
     "name": "stderr",
     "output_type": "stream",
     "text": [
      "100%|██████████| 98/98 [00:05<00:00, 19.25it/s]\n",
      "100%|██████████| 100/100 [00:00<00:00, 152.45it/s]\n",
      "  0%|          | 0/98 [00:00<?, ?it/s]"
     ]
    },
    {
     "name": "stdout",
     "output_type": "stream",
     "text": [
      "Epoch: 19 Train Error: 0.45512 Validation Error: 0.4901 Loss: 148.437110901\n"
     ]
    },
    {
     "name": "stderr",
     "output_type": "stream",
     "text": [
      " 87%|████████▋ | 85/98 [00:04<00:00, 19.57it/s]Process Process-1134:\n",
      "Process Process-1133:\n",
      "Traceback (most recent call last):\n",
      "  File \"/usr/lib/python2.7/multiprocessing/process.py\", line 267, in _bootstrap\n",
      "    self.run()\n",
      "  File \"/usr/lib/python2.7/multiprocessing/process.py\", line 114, in run\n",
      "Traceback (most recent call last):\n",
      "    self._target(*self._args, **self._kwargs)\n",
      "  File \"/home/anguelos/.local/lib/python2.7/site-packages/torch/utils/data/dataloader.py\", line 106, in _worker_loop\n",
      "  File \"/usr/lib/python2.7/multiprocessing/process.py\", line 267, in _bootstrap\n",
      "    self.run()\n",
      "  File \"/usr/lib/python2.7/multiprocessing/process.py\", line 114, in run\n",
      "    samples = collate_fn([dataset[i] for i in batch_indices])\n",
      "    self._target(*self._args, **self._kwargs)\n",
      "  File \"/home/anguelos/.local/lib/python2.7/site-packages/torchvision/datasets/cifar.py\", line 121, in __getitem__\n",
      "  File \"/home/anguelos/.local/lib/python2.7/site-packages/torch/utils/data/dataloader.py\", line 106, in _worker_loop\n",
      "    samples = collate_fn([dataset[i] for i in batch_indices])\n",
      "    img = self.transform(img)\n",
      "  File \"/home/anguelos/.local/lib/python2.7/site-packages/torchvision/datasets/cifar.py\", line 121, in __getitem__\n",
      "    img = self.transform(img)\n",
      "  File \"/home/anguelos/.local/lib/python2.7/site-packages/torchvision/transforms/transforms.py\", line 49, in __call__\n",
      "  File \"/home/anguelos/.local/lib/python2.7/site-packages/torchvision/transforms/transforms.py\", line 49, in __call__\n",
      "    img = t(img)\n",
      "    img = t(img)\n",
      "  File \"/home/anguelos/.local/lib/python2.7/site-packages/torchvision/transforms/transforms.py\", line 76, in __call__\n",
      "  File \"/home/anguelos/.local/lib/python2.7/site-packages/torchvision/transforms/transforms.py\", line 143, in __call__\n",
      "    return F.to_tensor(pic)\n",
      "    return F.normalize(tensor, self.mean, self.std)\n",
      "  File \"/home/anguelos/.local/lib/python2.7/site-packages/torchvision/transforms/functional.py\", line 70, in to_tensor\n",
      "  File \"/home/anguelos/.local/lib/python2.7/site-packages/torchvision/transforms/functional.py\", line 167, in normalize\n",
      "    img = torch.ByteTensor(torch.ByteStorage.from_buffer(pic.tobytes()))\n",
      "    for t, m, s in zip(tensor, mean, std):\n",
      "  File \"/home/anguelos/.local/lib/python2.7/site-packages/PIL/Image.py\", line 732, in tobytes\n",
      "  File \"/home/anguelos/.local/lib/python2.7/site-packages/torch/tensor.py\", line 382, in <lambda>\n",
      "    l, s, d = e.encode(bufsize)\n",
      "    return iter(imap(lambda i: self[i], range(self.size(0))))\n",
      "KeyboardInterrupt\n",
      "KeyboardInterrupt\n",
      "\n"
     ]
    },
    {
     "ename": "KeyboardInterrupt",
     "evalue": "",
     "output_type": "error",
     "traceback": [
      "\u001b[0;31m---------------------------------------------------------------------------\u001b[0m",
      "\u001b[0;31mKeyboardInterrupt\u001b[0m                         Traceback (most recent call last)",
      "\u001b[0;32m<ipython-input-14-f1f22486cb62>\u001b[0m in \u001b[0;36m<module>\u001b[0;34m()\u001b[0m\n\u001b[1;32m     10\u001b[0m \u001b[0;34m\u001b[0m\u001b[0m\n\u001b[1;32m     11\u001b[0m \u001b[0;32mfor\u001b[0m \u001b[0mepoch\u001b[0m \u001b[0;32min\u001b[0m \u001b[0mrange\u001b[0m\u001b[0;34m(\u001b[0m\u001b[0;36m200\u001b[0m\u001b[0;34m)\u001b[0m\u001b[0;34m:\u001b[0m\u001b[0;34m\u001b[0m\u001b[0m\n\u001b[0;32m---> 12\u001b[0;31m     \u001b[0mtrain_correct\u001b[0m\u001b[0;34m,\u001b[0m\u001b[0mtrain_total\u001b[0m\u001b[0;34m,\u001b[0m\u001b[0mtrain_loss\u001b[0m\u001b[0;34m=\u001b[0m\u001b[0mrun_epoch\u001b[0m\u001b[0;34m(\u001b[0m\u001b[0mnet\u001b[0m\u001b[0;34m,\u001b[0m \u001b[0mtrainloader\u001b[0m\u001b[0;34m,\u001b[0m \u001b[0mcriterion\u001b[0m\u001b[0;34m,\u001b[0m \u001b[0mdevice\u001b[0m\u001b[0;34m,\u001b[0m \u001b[0moptimizer\u001b[0m\u001b[0;34m)\u001b[0m\u001b[0;34m\u001b[0m\u001b[0m\n\u001b[0m\u001b[1;32m     13\u001b[0m     \u001b[0mtrain_acc\u001b[0m\u001b[0;34m=\u001b[0m\u001b[0mfloat\u001b[0m\u001b[0;34m(\u001b[0m\u001b[0mtrain_correct\u001b[0m\u001b[0;34m)\u001b[0m\u001b[0;34m/\u001b[0m\u001b[0mtrain_total\u001b[0m\u001b[0;34m\u001b[0m\u001b[0m\n\u001b[1;32m     14\u001b[0m     \u001b[0mtest_correct\u001b[0m\u001b[0;34m,\u001b[0m\u001b[0mtest_total\u001b[0m\u001b[0;34m,\u001b[0m\u001b[0mtest_error\u001b[0m\u001b[0;34m=\u001b[0m\u001b[0mrun_epoch\u001b[0m\u001b[0;34m(\u001b[0m\u001b[0mnet\u001b[0m\u001b[0;34m,\u001b[0m \u001b[0mtestloader\u001b[0m\u001b[0;34m,\u001b[0m \u001b[0mcriterion\u001b[0m\u001b[0;34m,\u001b[0m \u001b[0mdevice\u001b[0m\u001b[0;34m,\u001b[0m \u001b[0mNone\u001b[0m\u001b[0;34m)\u001b[0m\u001b[0;34m\u001b[0m\u001b[0m\n",
      "\u001b[0;32m<ipython-input-5-c88fd6363f94>\u001b[0m in \u001b[0;36mrun_epoch\u001b[0;34m(net, dataloader, criterion, device, optimizer)\u001b[0m\n\u001b[1;32m     13\u001b[0m             \u001b[0mloss\u001b[0m\u001b[0;34m.\u001b[0m\u001b[0mbackward\u001b[0m\u001b[0;34m(\u001b[0m\u001b[0;34m)\u001b[0m\u001b[0;34m\u001b[0m\u001b[0m\n\u001b[1;32m     14\u001b[0m             \u001b[0moptimizer\u001b[0m\u001b[0;34m.\u001b[0m\u001b[0mstep\u001b[0m\u001b[0;34m(\u001b[0m\u001b[0;34m)\u001b[0m\u001b[0;34m\u001b[0m\u001b[0m\n\u001b[0;32m---> 15\u001b[0;31m         \u001b[0maccumulated_loss\u001b[0m \u001b[0;34m+=\u001b[0m \u001b[0mloss\u001b[0m\u001b[0;34m.\u001b[0m\u001b[0mitem\u001b[0m\u001b[0;34m(\u001b[0m\u001b[0;34m)\u001b[0m\u001b[0;34m\u001b[0m\u001b[0m\n\u001b[0m\u001b[1;32m     16\u001b[0m         \u001b[0m_\u001b[0m\u001b[0;34m,\u001b[0m \u001b[0mpredicted\u001b[0m \u001b[0;34m=\u001b[0m \u001b[0moutputs\u001b[0m\u001b[0;34m.\u001b[0m\u001b[0mmax\u001b[0m\u001b[0;34m(\u001b[0m\u001b[0;36m1\u001b[0m\u001b[0;34m)\u001b[0m\u001b[0;34m\u001b[0m\u001b[0m\n\u001b[1;32m     17\u001b[0m         \u001b[0mtotal\u001b[0m \u001b[0;34m+=\u001b[0m \u001b[0mtargets\u001b[0m\u001b[0;34m.\u001b[0m\u001b[0msize\u001b[0m\u001b[0;34m(\u001b[0m\u001b[0;36m0\u001b[0m\u001b[0;34m)\u001b[0m\u001b[0;34m\u001b[0m\u001b[0m\n",
      "\u001b[0;31mKeyboardInterrupt\u001b[0m: "
     ]
    }
   ],
   "source": [
    "net=ColorCNN()\n",
    "if device=='cuda':\n",
    "    net.cuda()\n",
    "\n",
    "criterion = torch.nn.CrossEntropyLoss()\n",
    "optimizer = torch.optim.SGD(net.parameters(), lr=.01, momentum=0.9, weight_decay=5e-4)\n",
    "\n",
    "train_performance = []\n",
    "validation_performance = []\n",
    "\n",
    "for epoch in range(200):\n",
    "    train_correct,train_total,train_loss=run_epoch(net, trainloader, criterion, device, optimizer)\n",
    "    train_err=1-float(train_correct)/train_total\n",
    "    test_correct,test_total,test_error=run_epoch(net, testloader, criterion, device, None)\n",
    "    test_err=1-float(test_correct)/test_total\n",
    "    train_performance.append(train_acc)\n",
    "    validation_performance.append(test_acc)\n",
    "    print \"Epoch: {} Train Error: {} Validation Error: {} Loss: {}\".format(epoch,train_err,test_err,train_loss)\n",
    "\n",
    "plt.plot(train_performance)\n",
    "plt.plot(test_performance)"
   ]
  },
  {
   "cell_type": "markdown",
   "metadata": {},
   "source": [
    "### Using tensofows ploting in pytorch\n",
    "\n",
    "#### Install tensorboardX and tensorflow\n",
    "```bash\n",
    "pip install --user tensorboardX tensorflow\n",
    "```\n",
    "\n",
    "#### Run tensorboard \n",
    "```bash\n",
    "tensorboard --logdir runs/*/\n",
    "```\n",
    "\n",
    "#### Open your browser\n",
    "\n",
    "http://127.0.0.1:6006"
   ]
  },
  {
   "cell_type": "code",
   "execution_count": null,
   "metadata": {},
   "outputs": [
    {
     "name": "stderr",
     "output_type": "stream",
     "text": [
      "100%|██████████| 98/98 [00:05<00:00, 19.43it/s]\n",
      "100%|██████████| 100/100 [00:00<00:00, 141.09it/s]\n",
      "100%|██████████| 98/98 [00:04<00:00, 20.17it/s]\n",
      "100%|██████████| 100/100 [00:00<00:00, 127.79it/s]\n",
      "100%|██████████| 98/98 [00:05<00:00, 19.56it/s]\n",
      "100%|██████████| 100/100 [00:00<00:00, 121.60it/s]\n",
      "100%|██████████| 98/98 [00:04<00:00, 19.71it/s]\n",
      "100%|██████████| 100/100 [00:00<00:00, 153.38it/s]\n",
      "100%|██████████| 98/98 [00:04<00:00, 19.74it/s]\n",
      "100%|██████████| 100/100 [00:00<00:00, 139.36it/s]\n",
      "100%|██████████| 98/98 [00:04<00:00, 19.94it/s]\n",
      "100%|██████████| 100/100 [00:00<00:00, 129.95it/s]\n",
      "100%|██████████| 98/98 [00:04<00:00, 19.92it/s]\n",
      "100%|██████████| 100/100 [00:00<00:00, 153.43it/s]\n",
      "100%|██████████| 98/98 [00:04<00:00, 19.95it/s]\n",
      "100%|██████████| 100/100 [00:00<00:00, 153.48it/s]\n",
      "100%|██████████| 98/98 [00:04<00:00, 20.28it/s]\n",
      "100%|██████████| 100/100 [00:00<00:00, 123.17it/s]\n",
      "100%|██████████| 98/98 [00:04<00:00, 19.68it/s]\n",
      "100%|██████████| 100/100 [00:00<00:00, 141.64it/s]\n",
      " 96%|█████████▌| 94/98 [00:04<00:00, 20.12it/s]"
     ]
    }
   ],
   "source": [
    "import tensorboardX\n",
    "net=ColorCNN()\n",
    "if device=='cuda':\n",
    "    net.cuda()\n",
    "\n",
    "criterion = torch.nn.CrossEntropyLoss()\n",
    "optimizer = torch.optim.SGD(net.parameters(), lr=.01, momentum=0.9, weight_decay=5e-4)\n",
    "\n",
    "train_performance = []\n",
    "validation_performance = []\n",
    "\n",
    "writer = tensorboardX.SummaryWriter()\n",
    "\n",
    "for epoch in range(200):\n",
    "    train_correct,train_total,train_loss=run_epoch(net, trainloader, criterion, device, optimizer)\n",
    "    train_err=1-float(train_correct)/train_total\n",
    "    test_correct,test_total,test_loss=run_epoch(net, testloader, criterion, device, None)\n",
    "    test_err=1-float(test_correct)/test_total\n",
    "    \n",
    "    writer.add_scalar('error/train',train_err, epoch)\n",
    "    writer.add_scalar('error/test', test_err, epoch)\n",
    "    \n",
    "    writer.add_scalar('loss/train', train_loss, epoch)\n",
    "    writer.add_scalar('loss/test', test_loss, epoch)\n",
    "    filter_image=(torchvision.utils.make_grid(net.conv1.weight).data.cpu()).numpy().transpose(1,2,0)\n",
    "    writer.add_image('filters/conv1',filter_image , epoch)\n",
    "    writer.add_text('text',\"Epoch: {} Train Error: {} Validation Error: {} Loss: {}\".format(epoch,train_err,test_err,train_loss),epoch)\n"
   ]
  }
 ],
 "metadata": {
  "kernelspec": {
   "display_name": "Python 2",
   "language": "python",
   "name": "python2"
  },
  "language_info": {
   "codemirror_mode": {
    "name": "ipython",
    "version": 2
   },
   "file_extension": ".py",
   "mimetype": "text/x-python",
   "name": "python",
   "nbconvert_exporter": "python",
   "pygments_lexer": "ipython2",
   "version": "2.7.15rc1"
  }
 },
 "nbformat": 4,
 "nbformat_minor": 2
}
